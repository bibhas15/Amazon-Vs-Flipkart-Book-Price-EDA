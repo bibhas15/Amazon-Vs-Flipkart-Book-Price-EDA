{
 "cells": [
  {
   "cell_type": "markdown",
   "id": "897e3110",
   "metadata": {
    "papermill": {
     "duration": 0.061553,
     "end_time": "2021-07-16T17:10:35.750222",
     "exception": false,
     "start_time": "2021-07-16T17:10:35.688669",
     "status": "completed"
    },
    "tags": []
   },
   "source": [
    "# Importing libraries"
   ]
  },
  {
   "cell_type": "code",
   "execution_count": 1,
   "id": "74f6ce14",
   "metadata": {
    "execution": {
     "iopub.execute_input": "2021-07-16T17:10:35.877628Z",
     "iopub.status.busy": "2021-07-16T17:10:35.877081Z",
     "iopub.status.idle": "2021-07-16T17:10:37.021083Z",
     "shell.execute_reply": "2021-07-16T17:10:37.020509Z",
     "shell.execute_reply.started": "2021-07-16T17:09:46.268076Z"
    },
    "papermill": {
     "duration": 1.211694,
     "end_time": "2021-07-16T17:10:37.021229",
     "exception": false,
     "start_time": "2021-07-16T17:10:35.809535",
     "status": "completed"
    },
    "tags": []
   },
   "outputs": [],
   "source": [
    "import pandas as pd\n",
    "import numpy as np\n",
    "import matplotlib.pyplot as plt\n",
    "import seaborn as sns"
   ]
  },
  {
   "cell_type": "markdown",
   "id": "4768b241",
   "metadata": {
    "papermill": {
     "duration": 0.060393,
     "end_time": "2021-07-16T17:10:37.143086",
     "exception": false,
     "start_time": "2021-07-16T17:10:37.082693",
     "status": "completed"
    },
    "tags": []
   },
   "source": [
    "# Loading the Dataset Amazon"
   ]
  },
  {
   "cell_type": "code",
   "execution_count": 2,
   "id": "38100de0",
   "metadata": {
    "execution": {
     "iopub.execute_input": "2021-07-16T17:10:37.268225Z",
     "iopub.status.busy": "2021-07-16T17:10:37.267729Z",
     "iopub.status.idle": "2021-07-16T17:10:37.326181Z",
     "shell.execute_reply": "2021-07-16T17:10:37.326641Z",
     "shell.execute_reply.started": "2021-07-16T17:09:46.322104Z"
    },
    "papermill": {
     "duration": 0.121602,
     "end_time": "2021-07-16T17:10:37.326808",
     "exception": false,
     "start_time": "2021-07-16T17:10:37.205206",
     "status": "completed"
    },
    "tags": []
   },
   "outputs": [
    {
     "data": {
      "text/html": [
       "<div>\n",
       "<style scoped>\n",
       "    .dataframe tbody tr th:only-of-type {\n",
       "        vertical-align: middle;\n",
       "    }\n",
       "\n",
       "    .dataframe tbody tr th {\n",
       "        vertical-align: top;\n",
       "    }\n",
       "\n",
       "    .dataframe thead th {\n",
       "        text-align: right;\n",
       "    }\n",
       "</style>\n",
       "<table border=\"1\" class=\"dataframe\">\n",
       "  <thead>\n",
       "    <tr style=\"text-align: right;\">\n",
       "      <th></th>\n",
       "      <th>amazon_title</th>\n",
       "      <th>amazon_author</th>\n",
       "      <th>amazon_rating</th>\n",
       "      <th>amazon_reviews count</th>\n",
       "      <th>amazon_isbn-10</th>\n",
       "      <th>amazon_price</th>\n",
       "    </tr>\n",
       "  </thead>\n",
       "  <tbody>\n",
       "    <tr>\n",
       "      <th>0</th>\n",
       "      <td>Tell Me your Dreams</td>\n",
       "      <td>by Sidney Sheldon</td>\n",
       "      <td>4.4</td>\n",
       "      <td>160.0</td>\n",
       "      <td>8172234902</td>\n",
       "      <td>209</td>\n",
       "    </tr>\n",
       "    <tr>\n",
       "      <th>1</th>\n",
       "      <td>The Boy in the Striped Pyjamas (Definitions)</td>\n",
       "      <td>by John Boyne</td>\n",
       "      <td>4.6</td>\n",
       "      <td>134.0</td>\n",
       "      <td>1862305277</td>\n",
       "      <td>350</td>\n",
       "    </tr>\n",
       "    <tr>\n",
       "      <th>2</th>\n",
       "      <td>Romancing the Balance Sheet: For Anyone Who Ow...</td>\n",
       "      <td>by Anil Lamba</td>\n",
       "      <td>4.5</td>\n",
       "      <td>156.0</td>\n",
       "      <td>9350294311</td>\n",
       "      <td>477</td>\n",
       "    </tr>\n",
       "    <tr>\n",
       "      <th>3</th>\n",
       "      <td>Mossad</td>\n",
       "      <td>by Michael Bar-Zohar - Import</td>\n",
       "      <td>4.6</td>\n",
       "      <td>637.0</td>\n",
       "      <td>8184958455</td>\n",
       "      <td>340</td>\n",
       "    </tr>\n",
       "    <tr>\n",
       "      <th>4</th>\n",
       "      <td>My Story</td>\n",
       "      <td>by Kamala Das</td>\n",
       "      <td>4.5</td>\n",
       "      <td>42.0</td>\n",
       "      <td>8172238975</td>\n",
       "      <td>178</td>\n",
       "    </tr>\n",
       "    <tr>\n",
       "      <th>...</th>\n",
       "      <td>...</td>\n",
       "      <td>...</td>\n",
       "      <td>...</td>\n",
       "      <td>...</td>\n",
       "      <td>...</td>\n",
       "      <td>...</td>\n",
       "    </tr>\n",
       "    <tr>\n",
       "      <th>1377</th>\n",
       "      <td>Geronimo Stilton and the Kingdom of Fantasy #8...</td>\n",
       "      <td>by Geronimo Stilton</td>\n",
       "      <td>4.6</td>\n",
       "      <td>329.0</td>\n",
       "      <td>9385887815</td>\n",
       "      <td>274</td>\n",
       "    </tr>\n",
       "    <tr>\n",
       "      <th>1378</th>\n",
       "      <td>Harry Potter and the Deathly Hallows (Harry Po...</td>\n",
       "      <td>by J.K. Rowling</td>\n",
       "      <td>4.6</td>\n",
       "      <td>352.0</td>\n",
       "      <td>1408855712</td>\n",
       "      <td>666</td>\n",
       "    </tr>\n",
       "    <tr>\n",
       "      <th>1379</th>\n",
       "      <td>Sita's Ramayana</td>\n",
       "      <td>by Samhita Arni</td>\n",
       "      <td>3.6</td>\n",
       "      <td>5.0</td>\n",
       "      <td>9380340036</td>\n",
       "      <td>542</td>\n",
       "    </tr>\n",
       "    <tr>\n",
       "      <th>1380</th>\n",
       "      <td>The Maze Runner #02 Scorch Trials Movie Tie-in</td>\n",
       "      <td>by James Dashner</td>\n",
       "      <td>3.9</td>\n",
       "      <td>56.0</td>\n",
       "      <td>9351039684</td>\n",
       "      <td>247</td>\n",
       "    </tr>\n",
       "    <tr>\n",
       "      <th>1381</th>\n",
       "      <td>Tom Gates #10: Super Good Skills (Almost . . .)</td>\n",
       "      <td>by NILL</td>\n",
       "      <td>4.4</td>\n",
       "      <td>24.0</td>\n",
       "      <td>9386041901</td>\n",
       "      <td>213</td>\n",
       "    </tr>\n",
       "  </tbody>\n",
       "</table>\n",
       "<p>1382 rows × 6 columns</p>\n",
       "</div>"
      ],
      "text/plain": [
       "                                           amazon_title  \\\n",
       "0                                   Tell Me your Dreams   \n",
       "1          The Boy in the Striped Pyjamas (Definitions)   \n",
       "2     Romancing the Balance Sheet: For Anyone Who Ow...   \n",
       "3                                                Mossad   \n",
       "4                                              My Story   \n",
       "...                                                 ...   \n",
       "1377  Geronimo Stilton and the Kingdom of Fantasy #8...   \n",
       "1378  Harry Potter and the Deathly Hallows (Harry Po...   \n",
       "1379                                    Sita's Ramayana   \n",
       "1380     The Maze Runner #02 Scorch Trials Movie Tie-in   \n",
       "1381    Tom Gates #10: Super Good Skills (Almost . . .)   \n",
       "\n",
       "                      amazon_author amazon_rating amazon_reviews count  \\\n",
       "0                 by Sidney Sheldon           4.3                160.0   \n",
       "1                     by John Boyne           4.6                134.0   \n",
       "2                     by Anil Lamba           4.5                156.0   \n",
       "3     by Michael Bar-Zohar - Import           4.6                637.0   \n",
       "4                     by Kamala Das           4.5                 42.0   \n",
       "...                             ...           ...                  ...   \n",
       "1377            by Geronimo Stilton           4.6                329.0   \n",
       "1378                by J.K. Rowling           4.6                352.0   \n",
       "1379                by Samhita Arni           3.6                  5.0   \n",
       "1380               by James Dashner           3.9                 56.0   \n",
       "1381                        by NILL           4.4                 24.0   \n",
       "\n",
       "      amazon_isbn-10  amazon_price  \n",
       "0         8172234902           209  \n",
       "1         1862305277           350  \n",
       "2         9350294311           477  \n",
       "3         8184958455           340  \n",
       "4         8172238975           178  \n",
       "...              ...           ...  \n",
       "1377      9385887815           274  \n",
       "1378      1408855712           666  \n",
       "1379      9380340036           542  \n",
       "1380      9351039684           247  \n",
       "1381      9386041901           213  \n",
       "\n",
       "[1382 rows x 6 columns]"
      ]
     },
     "execution_count": 2,
     "metadata": {},
     "output_type": "execute_result"
    }
   ],
   "source": [
    "amazon=pd.read_csv(\"../input/amazon-vs-flipkart-book-prices/amazon.csv\")\n",
    "amazon"
   ]
  },
  {
   "cell_type": "code",
   "execution_count": 3,
   "id": "725570f6",
   "metadata": {
    "execution": {
     "iopub.execute_input": "2021-07-16T17:10:37.451111Z",
     "iopub.status.busy": "2021-07-16T17:10:37.450312Z",
     "iopub.status.idle": "2021-07-16T17:10:37.455222Z",
     "shell.execute_reply": "2021-07-16T17:10:37.454493Z",
     "shell.execute_reply.started": "2021-07-16T17:09:46.401820Z"
    },
    "papermill": {
     "duration": 0.069015,
     "end_time": "2021-07-16T17:10:37.455367",
     "exception": false,
     "start_time": "2021-07-16T17:10:37.386352",
     "status": "completed"
    },
    "tags": []
   },
   "outputs": [
    {
     "data": {
      "text/plain": [
       "(1382, 6)"
      ]
     },
     "execution_count": 3,
     "metadata": {},
     "output_type": "execute_result"
    }
   ],
   "source": [
    "amazon.shape"
   ]
  },
  {
   "cell_type": "code",
   "execution_count": 4,
   "id": "608d4d81",
   "metadata": {
    "execution": {
     "iopub.execute_input": "2021-07-16T17:10:37.660702Z",
     "iopub.status.busy": "2021-07-16T17:10:37.659976Z",
     "iopub.status.idle": "2021-07-16T17:10:37.664688Z",
     "shell.execute_reply": "2021-07-16T17:10:37.664080Z",
     "shell.execute_reply.started": "2021-07-16T17:09:46.492654Z"
    },
    "papermill": {
     "duration": 0.117864,
     "end_time": "2021-07-16T17:10:37.664842",
     "exception": false,
     "start_time": "2021-07-16T17:10:37.546978",
     "status": "completed"
    },
    "tags": []
   },
   "outputs": [
    {
     "name": "stdout",
     "output_type": "stream",
     "text": [
      "<class 'pandas.core.frame.DataFrame'>\n",
      "RangeIndex: 1382 entries, 0 to 1381\n",
      "Data columns (total 6 columns):\n",
      " #   Column                Non-Null Count  Dtype \n",
      "---  ------                --------------  ----- \n",
      " 0   amazon_title          1382 non-null   object\n",
      " 1   amazon_author         1382 non-null   object\n",
      " 2   amazon_rating         1378 non-null   object\n",
      " 3   amazon_reviews count  1378 non-null   object\n",
      " 4   amazon_isbn-10        1382 non-null   int64 \n",
      " 5   amazon_price          1382 non-null   int64 \n",
      "dtypes: int64(2), object(4)\n",
      "memory usage: 64.9+ KB\n"
     ]
    }
   ],
   "source": [
    "amazon.info()"
   ]
  },
  {
   "cell_type": "markdown",
   "id": "f2f29689",
   "metadata": {
    "papermill": {
     "duration": 0.091361,
     "end_time": "2021-07-16T17:10:37.848119",
     "exception": false,
     "start_time": "2021-07-16T17:10:37.756758",
     "status": "completed"
    },
    "tags": []
   },
   "source": [
    "# Data cleaning"
   ]
  },
  {
   "cell_type": "code",
   "execution_count": 5,
   "id": "0f711089",
   "metadata": {
    "execution": {
     "iopub.execute_input": "2021-07-16T17:10:38.039928Z",
     "iopub.status.busy": "2021-07-16T17:10:38.039101Z",
     "iopub.status.idle": "2021-07-16T17:10:38.044262Z",
     "shell.execute_reply": "2021-07-16T17:10:38.043671Z",
     "shell.execute_reply.started": "2021-07-16T17:09:46.527652Z"
    },
    "papermill": {
     "duration": 0.104743,
     "end_time": "2021-07-16T17:10:38.044413",
     "exception": false,
     "start_time": "2021-07-16T17:10:37.939670",
     "status": "completed"
    },
    "tags": []
   },
   "outputs": [
    {
     "data": {
      "text/plain": [
       "amazon_title            0\n",
       "amazon_author           0\n",
       "amazon_rating           4\n",
       "amazon_reviews count    4\n",
       "amazon_isbn-10          0\n",
       "amazon_price            0\n",
       "dtype: int64"
      ]
     },
     "execution_count": 5,
     "metadata": {},
     "output_type": "execute_result"
    }
   ],
   "source": [
    "amazon.isnull().sum()"
   ]
  },
  {
   "cell_type": "code",
   "execution_count": 6,
   "id": "29cfaba7",
   "metadata": {
    "execution": {
     "iopub.execute_input": "2021-07-16T17:10:38.237364Z",
     "iopub.status.busy": "2021-07-16T17:10:38.236696Z",
     "iopub.status.idle": "2021-07-16T17:10:38.261961Z",
     "shell.execute_reply": "2021-07-16T17:10:38.261201Z",
     "shell.execute_reply.started": "2021-07-16T17:09:46.551932Z"
    },
    "papermill": {
     "duration": 0.125772,
     "end_time": "2021-07-16T17:10:38.262115",
     "exception": false,
     "start_time": "2021-07-16T17:10:38.136343",
     "status": "completed"
    },
    "tags": []
   },
   "outputs": [],
   "source": [
    "amazon=amazon.dropna(axis=0)"
   ]
  },
  {
   "cell_type": "code",
   "execution_count": 7,
   "id": "25985e96",
   "metadata": {
    "execution": {
     "iopub.execute_input": "2021-07-16T17:10:38.452381Z",
     "iopub.status.busy": "2021-07-16T17:10:38.451614Z",
     "iopub.status.idle": "2021-07-16T17:10:38.454521Z",
     "shell.execute_reply": "2021-07-16T17:10:38.455061Z",
     "shell.execute_reply.started": "2021-07-16T17:09:46.664542Z"
    },
    "papermill": {
     "duration": 0.101001,
     "end_time": "2021-07-16T17:10:38.455249",
     "exception": false,
     "start_time": "2021-07-16T17:10:38.354248",
     "status": "completed"
    },
    "tags": []
   },
   "outputs": [
    {
     "data": {
      "text/plain": [
       "(1378, 6)"
      ]
     },
     "execution_count": 7,
     "metadata": {},
     "output_type": "execute_result"
    }
   ],
   "source": [
    "amazon.shape"
   ]
  },
  {
   "cell_type": "code",
   "execution_count": 8,
   "id": "6cc29bae",
   "metadata": {
    "execution": {
     "iopub.execute_input": "2021-07-16T17:10:38.642317Z",
     "iopub.status.busy": "2021-07-16T17:10:38.641504Z",
     "iopub.status.idle": "2021-07-16T17:10:38.648354Z",
     "shell.execute_reply": "2021-07-16T17:10:38.648836Z",
     "shell.execute_reply.started": "2021-07-16T17:09:46.740008Z"
    },
    "papermill": {
     "duration": 0.101579,
     "end_time": "2021-07-16T17:10:38.649023",
     "exception": false,
     "start_time": "2021-07-16T17:10:38.547444",
     "status": "completed"
    },
    "tags": []
   },
   "outputs": [
    {
     "data": {
      "text/plain": [
       "amazon_title            0\n",
       "amazon_author           0\n",
       "amazon_rating           0\n",
       "amazon_reviews count    0\n",
       "amazon_isbn-10          0\n",
       "amazon_price            0\n",
       "dtype: int64"
      ]
     },
     "execution_count": 8,
     "metadata": {},
     "output_type": "execute_result"
    }
   ],
   "source": [
    "amazon.isnull().sum()"
   ]
  },
  {
   "cell_type": "code",
   "execution_count": 9,
   "id": "e809cd62",
   "metadata": {
    "execution": {
     "iopub.execute_input": "2021-07-16T17:10:38.838410Z",
     "iopub.status.busy": "2021-07-16T17:10:38.837594Z",
     "iopub.status.idle": "2021-07-16T17:10:39.024020Z",
     "shell.execute_reply": "2021-07-16T17:10:39.023560Z",
     "shell.execute_reply.started": "2021-07-16T17:09:46.787743Z"
    },
    "papermill": {
     "duration": 0.282018,
     "end_time": "2021-07-16T17:10:39.024140",
     "exception": false,
     "start_time": "2021-07-16T17:10:38.742122",
     "status": "completed"
    },
    "tags": []
   },
   "outputs": [
    {
     "data": {
      "text/plain": [
       "<AxesSubplot:>"
      ]
     },
     "execution_count": 9,
     "metadata": {},
     "output_type": "execute_result"
    },
    {
     "data": {
      "image/png": "[encoded data removed]",
      "text/plain": [
       "<Figure size 1080x576 with 1 Axes>"
      ]
     },
     "metadata": {
      "needs_background": "light"
     },
     "output_type": "display_data"
    }
   ],
   "source": [
    "plt.figure(figsize=(15,8))\n",
    "sns.heatmap(amazon.isnull(),cbar=False,yticklabels=False)"
   ]
  },
  {
   "cell_type": "markdown",
   "id": "852a863c",
   "metadata": {
    "papermill": {
     "duration": 0.060526,
     "end_time": "2021-07-16T17:10:39.146328",
     "exception": false,
     "start_time": "2021-07-16T17:10:39.085802",
     "status": "completed"
    },
    "tags": []
   },
   "source": [
    "# Loading the Dataset Flipkart"
   ]
  },
  {
   "cell_type": "code",
   "execution_count": 10,
   "id": "7a3adfd9",
   "metadata": {
    "execution": {
     "iopub.execute_input": "2021-07-16T17:10:39.274849Z",
     "iopub.status.busy": "2021-07-16T17:10:39.274342Z",
     "iopub.status.idle": "2021-07-16T17:10:39.307644Z",
     "shell.execute_reply": "2021-07-16T17:10:39.308049Z",
     "shell.execute_reply.started": "2021-07-16T17:09:46.965288Z"
    },
    "papermill": {
     "duration": 0.100159,
     "end_time": "2021-07-16T17:10:39.308205",
     "exception": false,
     "start_time": "2021-07-16T17:10:39.208046",
     "status": "completed"
    },
    "tags": []
   },
   "outputs": [
    {
     "data": {
      "text/html": [
       "<div>\n",
       "<style scoped>\n",
       "    .dataframe tbody tr th:only-of-type {\n",
       "        vertical-align: middle;\n",
       "    }\n",
       "\n",
       "    .dataframe tbody tr th {\n",
       "        vertical-align: top;\n",
       "    }\n",
       "\n",
       "    .dataframe thead th {\n",
       "        text-align: right;\n",
       "    }\n",
       "</style>\n",
       "<table border=\"1\" class=\"dataframe\">\n",
       "  <thead>\n",
       "    <tr style=\"text-align: right;\">\n",
       "      <th></th>\n",
       "      <th>flipkart_author</th>\n",
       "      <th>flipkart_isbn10</th>\n",
       "      <th>flipkart_title</th>\n",
       "      <th>flipkart_ratings count</th>\n",
       "      <th>flipkart_price</th>\n",
       "      <th>flipkart_stars</th>\n",
       "    </tr>\n",
       "  </thead>\n",
       "  <tbody>\n",
       "    <tr>\n",
       "      <th>0</th>\n",
       "      <td>Sidney Sheldon</td>\n",
       "      <td>8172234902</td>\n",
       "      <td>TELL ME YOUR DREAMS</td>\n",
       "      <td>902</td>\n",
       "      <td>209</td>\n",
       "      <td>4.5</td>\n",
       "    </tr>\n",
       "    <tr>\n",
       "      <th>1</th>\n",
       "      <td></td>\n",
       "      <td>1862305277</td>\n",
       "      <td>The Boy in the Striped Pyjamas</td>\n",
       "      <td>83</td>\n",
       "      <td>372</td>\n",
       "      <td>4.5</td>\n",
       "    </tr>\n",
       "    <tr>\n",
       "      <th>2</th>\n",
       "      <td>Anil Lamba</td>\n",
       "      <td>9350294311</td>\n",
       "      <td>ROMANCING THE BALANCE SHEET</td>\n",
       "      <td>352</td>\n",
       "      <td>477</td>\n",
       "      <td>4.5</td>\n",
       "    </tr>\n",
       "    <tr>\n",
       "      <th>3</th>\n",
       "      <td>Bar-Zohar Michael</td>\n",
       "      <td>8184958455</td>\n",
       "      <td>Mossad</td>\n",
       "      <td>560</td>\n",
       "      <td>280</td>\n",
       "      <td>4.5</td>\n",
       "    </tr>\n",
       "    <tr>\n",
       "      <th>4</th>\n",
       "      <td>Kamala Das</td>\n",
       "      <td>8172238975</td>\n",
       "      <td>MY STORY</td>\n",
       "      <td>322</td>\n",
       "      <td>178</td>\n",
       "      <td>4.3</td>\n",
       "    </tr>\n",
       "  </tbody>\n",
       "</table>\n",
       "</div>"
      ],
      "text/plain": [
       "       flipkart_author  flipkart_isbn10                   flipkart_title  \\\n",
       "0       Sidney Sheldon       8172234902              TELL ME YOUR DREAMS   \n",
       "1                            1862305277   The Boy in the Striped Pyjamas   \n",
       "2           Anil Lamba       9350294311      ROMANCING THE BALANCE SHEET   \n",
       "3    Bar-Zohar Michael       8184958455                           Mossad   \n",
       "4           Kamala Das       8172238975                         MY STORY   \n",
       "\n",
       "  flipkart_ratings count  flipkart_price flipkart_stars  \n",
       "0                    902             209            4.5  \n",
       "1                     83             372            4.5  \n",
       "2                    352             477            4.5  \n",
       "3                    560             280            4.5  \n",
       "4                    322             178            4.3  "
      ]
     },
     "execution_count": 10,
     "metadata": {},
     "output_type": "execute_result"
    }
   ],
   "source": [
    "flipkart=pd.read_csv(\"../input/amazon-vs-flipkart-book-prices/flipkart.csv\")\n",
    "flipkart.head()"
   ]
  },
  {
   "cell_type": "code",
   "execution_count": 11,
   "id": "2ddbcb98",
   "metadata": {
    "execution": {
     "iopub.execute_input": "2021-07-16T17:10:39.434527Z",
     "iopub.status.busy": "2021-07-16T17:10:39.434014Z",
     "iopub.status.idle": "2021-07-16T17:10:39.438507Z",
     "shell.execute_reply": "2021-07-16T17:10:39.437997Z",
     "shell.execute_reply.started": "2021-07-16T17:09:46.985166Z"
    },
    "papermill": {
     "duration": 0.069469,
     "end_time": "2021-07-16T17:10:39.438625",
     "exception": false,
     "start_time": "2021-07-16T17:10:39.369156",
     "status": "completed"
    },
    "tags": []
   },
   "outputs": [
    {
     "data": {
      "text/plain": [
       "(1382, 6)"
      ]
     },
     "execution_count": 11,
     "metadata": {},
     "output_type": "execute_result"
    }
   ],
   "source": [
    "flipkart.shape"
   ]
  },
  {
   "cell_type": "code",
   "execution_count": 12,
   "id": "1f56b03a",
   "metadata": {
    "execution": {
     "iopub.execute_input": "2021-07-16T17:10:39.573494Z",
     "iopub.status.busy": "2021-07-16T17:10:39.572838Z",
     "iopub.status.idle": "2021-07-16T17:10:39.576946Z",
     "shell.execute_reply": "2021-07-16T17:10:39.576465Z",
     "shell.execute_reply.started": "2021-07-16T17:09:47.043190Z"
    },
    "papermill": {
     "duration": 0.076754,
     "end_time": "2021-07-16T17:10:39.577051",
     "exception": false,
     "start_time": "2021-07-16T17:10:39.500297",
     "status": "completed"
    },
    "tags": []
   },
   "outputs": [
    {
     "name": "stdout",
     "output_type": "stream",
     "text": [
      "<class 'pandas.core.frame.DataFrame'>\n",
      "RangeIndex: 1382 entries, 0 to 1381\n",
      "Data columns (total 6 columns):\n",
      " #   Column                  Non-Null Count  Dtype \n",
      "---  ------                  --------------  ----- \n",
      " 0   flipkart_author         1382 non-null   object\n",
      " 1   flipkart_isbn10         1382 non-null   int64 \n",
      " 2   flipkart_title          1382 non-null   object\n",
      " 3   flipkart_ratings count  1382 non-null   object\n",
      " 4   flipkart_price          1382 non-null   int64 \n",
      " 5   flipkart_stars          1382 non-null   object\n",
      "dtypes: int64(2), object(4)\n",
      "memory usage: 64.9+ KB\n"
     ]
    }
   ],
   "source": [
    "flipkart.info()"
   ]
  },
  {
   "cell_type": "markdown",
   "id": "7ab0d530",
   "metadata": {
    "papermill": {
     "duration": 0.059747,
     "end_time": "2021-07-16T17:10:39.697506",
     "exception": false,
     "start_time": "2021-07-16T17:10:39.637759",
     "status": "completed"
    },
    "tags": []
   },
   "source": [
    "# Data cleaning"
   ]
  },
  {
   "cell_type": "code",
   "execution_count": 13,
   "id": "3c38f2dd",
   "metadata": {
    "execution": {
     "iopub.execute_input": "2021-07-16T17:10:39.826714Z",
     "iopub.status.busy": "2021-07-16T17:10:39.826061Z",
     "iopub.status.idle": "2021-07-16T17:10:39.830065Z",
     "shell.execute_reply": "2021-07-16T17:10:39.830474Z",
     "shell.execute_reply.started": "2021-07-16T17:09:47.058971Z"
    },
    "papermill": {
     "duration": 0.072758,
     "end_time": "2021-07-16T17:10:39.830636",
     "exception": false,
     "start_time": "2021-07-16T17:10:39.757878",
     "status": "completed"
    },
    "tags": []
   },
   "outputs": [
    {
     "data": {
      "text/plain": [
       "flipkart_author           0\n",
       "flipkart_isbn10           0\n",
       "flipkart_title            0\n",
       "flipkart_ratings count    0\n",
       "flipkart_price            0\n",
       "flipkart_stars            0\n",
       "dtype: int64"
      ]
     },
     "execution_count": 13,
     "metadata": {},
     "output_type": "execute_result"
    }
   ],
   "source": [
    "flipkart.isnull().sum()"
   ]
  },
  {
   "cell_type": "code",
   "execution_count": 14,
   "id": "4a4f097c",
   "metadata": {
    "execution": {
     "iopub.execute_input": "2021-07-16T17:10:39.977624Z",
     "iopub.status.busy": "2021-07-16T17:10:39.961200Z",
     "iopub.status.idle": "2021-07-16T17:10:40.111820Z",
     "shell.execute_reply": "2021-07-16T17:10:40.111330Z",
     "shell.execute_reply.started": "2021-07-16T17:09:47.081878Z"
    },
    "papermill": {
     "duration": 0.218,
     "end_time": "2021-07-16T17:10:40.111959",
     "exception": false,
     "start_time": "2021-07-16T17:10:39.893959",
     "status": "completed"
    },
    "tags": []
   },
   "outputs": [
    {
     "data": {
      "text/plain": [
       "<AxesSubplot:>"
      ]
     },
     "execution_count": 14,
     "metadata": {},
     "output_type": "execute_result"
    },
    {
     "data": {
      "image/png": "[encoded data removed]",
      "text/plain": [
       "<Figure size 1080x576 with 1 Axes>"
      ]
     },
     "metadata": {
      "needs_background": "light"
     },
     "output_type": "display_data"
    }
   ],
   "source": [
    "plt.figure(figsize=(15,8))\n",
    "sns.heatmap(flipkart.isnull(),cbar=False,yticklabels=False)"
   ]
  },
  {
   "cell_type": "markdown",
   "id": "9a8c6f6b",
   "metadata": {
    "papermill": {
     "duration": 0.06407,
     "end_time": "2021-07-16T17:10:40.241340",
     "exception": false,
     "start_time": "2021-07-16T17:10:40.177270",
     "status": "completed"
    },
    "tags": []
   },
   "source": [
    "# As both the Datasets (amazon and flipkart ) are cleaned lets analyze the Datasets"
   ]
  },
  {
   "cell_type": "markdown",
   "id": "52bf9c86",
   "metadata": {
    "papermill": {
     "duration": 0.062942,
     "end_time": "2021-07-16T17:10:40.369366",
     "exception": false,
     "start_time": "2021-07-16T17:10:40.306424",
     "status": "completed"
    },
    "tags": []
   },
   "source": [
    "# Amazon"
   ]
  },
  {
   "cell_type": "code",
   "execution_count": 15,
   "id": "b3032608",
   "metadata": {
    "execution": {
     "iopub.execute_input": "2021-07-16T17:10:40.505763Z",
     "iopub.status.busy": "2021-07-16T17:10:40.505088Z",
     "iopub.status.idle": "2021-07-16T17:10:40.509569Z",
     "shell.execute_reply": "2021-07-16T17:10:40.508989Z",
     "shell.execute_reply.started": "2021-07-16T17:09:47.267125Z"
    },
    "papermill": {
     "duration": 0.078201,
     "end_time": "2021-07-16T17:10:40.509703",
     "exception": false,
     "start_time": "2021-07-16T17:10:40.431502",
     "status": "completed"
    },
    "tags": []
   },
   "outputs": [
    {
     "data": {
      "text/html": [
       "<div>\n",
       "<style scoped>\n",
       "    .dataframe tbody tr th:only-of-type {\n",
       "        vertical-align: middle;\n",
       "    }\n",
       "\n",
       "    .dataframe tbody tr th {\n",
       "        vertical-align: top;\n",
       "    }\n",
       "\n",
       "    .dataframe thead th {\n",
       "        text-align: right;\n",
       "    }\n",
       "</style>\n",
       "<table border=\"1\" class=\"dataframe\">\n",
       "  <thead>\n",
       "    <tr style=\"text-align: right;\">\n",
       "      <th></th>\n",
       "      <th>amazon_title</th>\n",
       "      <th>amazon_author</th>\n",
       "      <th>amazon_rating</th>\n",
       "      <th>amazon_reviews count</th>\n",
       "      <th>amazon_isbn-10</th>\n",
       "      <th>amazon_price</th>\n",
       "    </tr>\n",
       "  </thead>\n",
       "  <tbody>\n",
       "    <tr>\n",
       "      <th>0</th>\n",
       "      <td>Tell Me your Dreams</td>\n",
       "      <td>by Sidney Sheldon</td>\n",
       "      <td>4.4</td>\n",
       "      <td>160.0</td>\n",
       "      <td>8172234902</td>\n",
       "      <td>209</td>\n",
       "    </tr>\n",
       "    <tr>\n",
       "      <th>1</th>\n",
       "      <td>The Boy in the Striped Pyjamas (Definitions)</td>\n",
       "      <td>by John Boyne</td>\n",
       "      <td>4.6</td>\n",
       "      <td>134.0</td>\n",
       "      <td>1862305277</td>\n",
       "      <td>350</td>\n",
       "    </tr>\n",
       "    <tr>\n",
       "      <th>2</th>\n",
       "      <td>Romancing the Balance Sheet: For Anyone Who Ow...</td>\n",
       "      <td>by Anil Lamba</td>\n",
       "      <td>4.5</td>\n",
       "      <td>156.0</td>\n",
       "      <td>9350294311</td>\n",
       "      <td>477</td>\n",
       "    </tr>\n",
       "    <tr>\n",
       "      <th>3</th>\n",
       "      <td>Mossad</td>\n",
       "      <td>by Michael Bar-Zohar - Import</td>\n",
       "      <td>4.6</td>\n",
       "      <td>637.0</td>\n",
       "      <td>8184958455</td>\n",
       "      <td>340</td>\n",
       "    </tr>\n",
       "    <tr>\n",
       "      <th>4</th>\n",
       "      <td>My Story</td>\n",
       "      <td>by Kamala Das</td>\n",
       "      <td>4.5</td>\n",
       "      <td>42.0</td>\n",
       "      <td>8172238975</td>\n",
       "      <td>178</td>\n",
       "    </tr>\n",
       "  </tbody>\n",
       "</table>\n",
       "</div>"
      ],
      "text/plain": [
       "                                        amazon_title  \\\n",
       "0                                Tell Me your Dreams   \n",
       "1       The Boy in the Striped Pyjamas (Definitions)   \n",
       "2  Romancing the Balance Sheet: For Anyone Who Ow...   \n",
       "3                                             Mossad   \n",
       "4                                           My Story   \n",
       "\n",
       "                   amazon_author amazon_rating amazon_reviews count  \\\n",
       "0              by Sidney Sheldon           4.4                160.0   \n",
       "1                  by John Boyne           4.6                134.0   \n",
       "2                  by Anil Lamba           4.5                156.0   \n",
       "3  by Michael Bar-Zohar - Import           4.6                637.0   \n",
       "4                  by Kamala Das           4.5                 42.0   \n",
       "\n",
       "   amazon_isbn-10  amazon_price  \n",
       "0      8172234902           209  \n",
       "1      1862305277           350  \n",
       "2      9350294311           477  \n",
       "3      8184958455           340  \n",
       "4      8172238975           178  "
      ]
     },
     "execution_count": 15,
     "metadata": {},
     "output_type": "execute_result"
    }
   ],
   "source": [
    "amazon.head()"
   ]
  },
  {
   "cell_type": "markdown",
   "id": "1cbd68af",
   "metadata": {
    "papermill": {
     "duration": 0.098883,
     "end_time": "2021-07-16T17:10:40.706444",
     "exception": false,
     "start_time": "2021-07-16T17:10:40.607561",
     "status": "completed"
    },
    "tags": []
   },
   "source": [
    "# Now we must convert \"amazon_reviews count\"  from string to numeric"
   ]
  },
  {
   "cell_type": "code",
   "execution_count": 16,
   "id": "d1b77c70",
   "metadata": {
    "execution": {
     "iopub.execute_input": "2021-07-16T17:10:40.912473Z",
     "iopub.status.busy": "2021-07-16T17:10:40.911782Z",
     "iopub.status.idle": "2021-07-16T17:10:40.915059Z",
     "shell.execute_reply": "2021-07-16T17:10:40.914415Z",
     "shell.execute_reply.started": "2021-07-16T17:09:47.281569Z"
    },
    "papermill": {
     "duration": 0.108816,
     "end_time": "2021-07-16T17:10:40.915192",
     "exception": false,
     "start_time": "2021-07-16T17:10:40.806376",
     "status": "completed"
    },
    "tags": []
   },
   "outputs": [
    {
     "name": "stderr",
     "output_type": "stream",
     "text": [
      "/opt/conda/lib/python3.7/site-packages/ipykernel_launcher.py:1: SettingWithCopyWarning: \n",
      "A value is trying to be set on a copy of a slice from a DataFrame.\n",
      "Try using .loc[row_indexer,col_indexer] = value instead\n",
      "\n",
      "See the caveats in the documentation: https://pandas.pydata.org/pandas-docs/stable/user_guide/indexing.html#returning-a-view-versus-a-copy\n",
      "  \"\"\"Entry point for launching an IPython kernel.\n"
     ]
    }
   ],
   "source": [
    "amazon[\"amazon_reviews count\"]=amazon[\"amazon_reviews count\"].str.replace(\",\",\"\")"
   ]
  },
  {
   "cell_type": "code",
   "execution_count": 17,
   "id": "4c69b3cb",
   "metadata": {
    "execution": {
     "iopub.execute_input": "2021-07-16T17:10:41.122624Z",
     "iopub.status.busy": "2021-07-16T17:10:41.121973Z",
     "iopub.status.idle": "2021-07-16T17:10:41.125762Z",
     "shell.execute_reply": "2021-07-16T17:10:41.125328Z",
     "shell.execute_reply.started": "2021-07-16T17:09:47.312304Z"
    },
    "papermill": {
     "duration": 0.109326,
     "end_time": "2021-07-16T17:10:41.125913",
     "exception": false,
     "start_time": "2021-07-16T17:10:41.016587",
     "status": "completed"
    },
    "tags": []
   },
   "outputs": [
    {
     "name": "stderr",
     "output_type": "stream",
     "text": [
      "/opt/conda/lib/python3.7/site-packages/ipykernel_launcher.py:1: SettingWithCopyWarning: \n",
      "A value is trying to be set on a copy of a slice from a DataFrame.\n",
      "Try using .loc[row_indexer,col_indexer] = value instead\n",
      "\n",
      "See the caveats in the documentation: https://pandas.pydata.org/pandas-docs/stable/user_guide/indexing.html#returning-a-view-versus-a-copy\n",
      "  \"\"\"Entry point for launching an IPython kernel.\n"
     ]
    }
   ],
   "source": [
    "amazon[\"amazon_reviews count\"]=pd.to_numeric(amazon[\"amazon_reviews count\"])"
   ]
  },
  {
   "cell_type": "code",
   "execution_count": 18,
   "id": "62f481e8",
   "metadata": {
    "execution": {
     "iopub.execute_input": "2021-07-16T17:10:41.255724Z",
     "iopub.status.busy": "2021-07-16T17:10:41.255208Z",
     "iopub.status.idle": "2021-07-16T17:10:41.274946Z",
     "shell.execute_reply": "2021-07-16T17:10:41.275426Z",
     "shell.execute_reply.started": "2021-07-16T17:09:47.352391Z"
    },
    "papermill": {
     "duration": 0.08665,
     "end_time": "2021-07-16T17:10:41.275596",
     "exception": false,
     "start_time": "2021-07-16T17:10:41.188946",
     "status": "completed"
    },
    "tags": []
   },
   "outputs": [
    {
     "data": {
      "text/html": [
       "<div>\n",
       "<style scoped>\n",
       "    .dataframe tbody tr th:only-of-type {\n",
       "        vertical-align: middle;\n",
       "    }\n",
       "\n",
       "    .dataframe tbody tr th {\n",
       "        vertical-align: top;\n",
       "    }\n",
       "\n",
       "    .dataframe thead th {\n",
       "        text-align: right;\n",
       "    }\n",
       "</style>\n",
       "<table border=\"1\" class=\"dataframe\">\n",
       "  <thead>\n",
       "    <tr style=\"text-align: right;\">\n",
       "      <th></th>\n",
       "      <th>amazon_reviews count</th>\n",
       "      <th>amazon_isbn-10</th>\n",
       "      <th>amazon_price</th>\n",
       "    </tr>\n",
       "  </thead>\n",
       "  <tbody>\n",
       "    <tr>\n",
       "      <th>count</th>\n",
       "      <td>1378.000000</td>\n",
       "      <td>1.378000e+03</td>\n",
       "      <td>1378.000000</td>\n",
       "    </tr>\n",
       "    <tr>\n",
       "      <th>mean</th>\n",
       "      <td>492.148766</td>\n",
       "      <td>7.761269e+09</td>\n",
       "      <td>247.591437</td>\n",
       "    </tr>\n",
       "    <tr>\n",
       "      <th>std</th>\n",
       "      <td>1016.414262</td>\n",
       "      <td>2.641236e+09</td>\n",
       "      <td>151.274270</td>\n",
       "    </tr>\n",
       "    <tr>\n",
       "      <th>min</th>\n",
       "      <td>1.000000</td>\n",
       "      <td>1.250006e+09</td>\n",
       "      <td>1.000000</td>\n",
       "    </tr>\n",
       "    <tr>\n",
       "      <th>25%</th>\n",
       "      <td>41.000000</td>\n",
       "      <td>8.172235e+09</td>\n",
       "      <td>135.250000</td>\n",
       "    </tr>\n",
       "    <tr>\n",
       "      <th>50%</th>\n",
       "      <td>137.000000</td>\n",
       "      <td>8.192911e+09</td>\n",
       "      <td>213.000000</td>\n",
       "    </tr>\n",
       "    <tr>\n",
       "      <th>75%</th>\n",
       "      <td>392.500000</td>\n",
       "      <td>9.352865e+09</td>\n",
       "      <td>320.000000</td>\n",
       "    </tr>\n",
       "    <tr>\n",
       "      <th>max</th>\n",
       "      <td>6566.000000</td>\n",
       "      <td>9.960900e+09</td>\n",
       "      <td>895.000000</td>\n",
       "    </tr>\n",
       "  </tbody>\n",
       "</table>\n",
       "</div>"
      ],
      "text/plain": [
       "       amazon_reviews count  amazon_isbn-10  amazon_price\n",
       "count           1378.000000    1.378000e+03   1378.000000\n",
       "mean             492.148766    7.761269e+09    247.591437\n",
       "std             1016.414262    2.641236e+09    151.274270\n",
       "min                1.000000    1.250006e+09      1.000000\n",
       "25%               41.000000    8.172235e+09    135.250000\n",
       "50%              137.000000    8.192911e+09    213.000000\n",
       "75%              392.500000    9.352865e+09    320.000000\n",
       "max             6566.000000    9.960900e+09    895.000000"
      ]
     },
     "execution_count": 18,
     "metadata": {},
     "output_type": "execute_result"
    }
   ],
   "source": [
    "amazon.describe()"
   ]
  },
  {
   "cell_type": "markdown",
   "id": "0a2706d4",
   "metadata": {
    "papermill": {
     "duration": 0.097961,
     "end_time": "2021-07-16T17:10:41.470881",
     "exception": false,
     "start_time": "2021-07-16T17:10:41.372920",
     "status": "completed"
    },
    "tags": []
   },
   "source": [
    "# Lets check the range of prices of every single book on Amazon"
   ]
  },
  {
   "cell_type": "code",
   "execution_count": 19,
   "id": "ef01eca1",
   "metadata": {
    "execution": {
     "iopub.execute_input": "2021-07-16T17:10:41.669298Z",
     "iopub.status.busy": "2021-07-16T17:10:41.668571Z",
     "iopub.status.idle": "2021-07-16T17:10:42.125937Z",
     "shell.execute_reply": "2021-07-16T17:10:42.126451Z",
     "shell.execute_reply.started": "2021-07-16T17:09:47.435674Z"
    },
    "papermill": {
     "duration": 0.558134,
     "end_time": "2021-07-16T17:10:42.126614",
     "exception": false,
     "start_time": "2021-07-16T17:10:41.568480",
     "status": "completed"
    },
    "tags": []
   },
   "outputs": [
    {
     "data": {
      "text/plain": [
       "<AxesSubplot:xlabel='amazon_price', ylabel='Count'>"
      ]
     },
     "execution_count": 19,
     "metadata": {},
     "output_type": "execute_result"
    },
    {
     "data": {
      "image/png": "[encoded data removed]",
      "text/plain": [
       "<Figure size 1080x576 with 1 Axes>"
      ]
     },
     "metadata": {
      "needs_background": "light"
     },
     "output_type": "display_data"
    }
   ],
   "source": [
    "plt.figure(figsize=(15,8))\n",
    "sns.set(style=\"darkgrid\")\n",
    "sns.histplot(data=amazon,x=\"amazon_price\",kde=True, legend=True,bins=70)"
   ]
  },
  {
   "cell_type": "markdown",
   "id": "618e49e0",
   "metadata": {
    "papermill": {
     "duration": 0.100705,
     "end_time": "2021-07-16T17:10:42.327801",
     "exception": false,
     "start_time": "2021-07-16T17:10:42.227096",
     "status": "completed"
    },
    "tags": []
   },
   "source": [
    "# What does a right skewed distribution mean?\n",
    "With right-skewed distribution(also known as \"positively skewed\" distribution), most data falls to the right, or positive side, of the graph's peak. Thus, the histogram skews in such a way that its right side (or \"tail\") is longer than its left side\n",
    "The above visuals clearly states that the plot is rightly skewed which concludes that mean>meadian"
   ]
  },
  {
   "cell_type": "markdown",
   "id": "c5b964c0",
   "metadata": {
    "papermill": {
     "duration": 0.099684,
     "end_time": "2021-07-16T17:10:42.528399",
     "exception": false,
     "start_time": "2021-07-16T17:10:42.428715",
     "status": "completed"
    },
    "tags": []
   },
   "source": [
    "# Lets check the reviews of every single book on Amazon"
   ]
  },
  {
   "cell_type": "code",
   "execution_count": 20,
   "id": "0db14211",
   "metadata": {
    "execution": {
     "iopub.execute_input": "2021-07-16T17:10:42.732238Z",
     "iopub.status.busy": "2021-07-16T17:10:42.731531Z",
     "iopub.status.idle": "2021-07-16T17:10:43.137760Z",
     "shell.execute_reply": "2021-07-16T17:10:43.137164Z",
     "shell.execute_reply.started": "2021-07-16T17:09:47.805421Z"
    },
    "papermill": {
     "duration": 0.50911,
     "end_time": "2021-07-16T17:10:43.137935",
     "exception": false,
     "start_time": "2021-07-16T17:10:42.628825",
     "status": "completed"
    },
    "tags": []
   },
   "outputs": [
    {
     "data": {
      "text/plain": [
       "<AxesSubplot:xlabel='amazon_reviews count', ylabel='Count'>"
      ]
     },
     "execution_count": 20,
     "metadata": {},
     "output_type": "execute_result"
    },
    {
     "data": {
      "image/png": "[encoded data removed]",
      "text/plain": [
       "<Figure size 1080x576 with 1 Axes>"
      ]
     },
     "metadata": {},
     "output_type": "display_data"
    }
   ],
   "source": [
    "plt.figure(figsize=(15,8))\n",
    "sns.set(style=\"darkgrid\")\n",
    "sns.histplot(data=amazon,x=\"amazon_reviews count\",kde=True, legend=True)"
   ]
  },
  {
   "cell_type": "markdown",
   "id": "5a1fb0bd",
   "metadata": {
    "papermill": {
     "duration": 0.064322,
     "end_time": "2021-07-16T17:10:43.272714",
     "exception": false,
     "start_time": "2021-07-16T17:10:43.208392",
     "status": "completed"
    },
    "tags": []
   },
   "source": [
    "# Lets check ratings on Amazon"
   ]
  },
  {
   "cell_type": "code",
   "execution_count": 21,
   "id": "74c4144f",
   "metadata": {
    "execution": {
     "iopub.execute_input": "2021-07-16T17:10:43.409503Z",
     "iopub.status.busy": "2021-07-16T17:10:43.408881Z",
     "iopub.status.idle": "2021-07-16T17:10:43.412005Z",
     "shell.execute_reply": "2021-07-16T17:10:43.411514Z",
     "shell.execute_reply.started": "2021-07-16T17:09:48.230189Z"
    },
    "papermill": {
     "duration": 0.074166,
     "end_time": "2021-07-16T17:10:43.412109",
     "exception": false,
     "start_time": "2021-07-16T17:10:43.337943",
     "status": "completed"
    },
    "tags": []
   },
   "outputs": [
    {
     "data": {
      "text/plain": [
       "4.4                   193\n",
       "4.5                   155\n",
       "4.6                   118\n",
       "4.3                   118\n",
       "4.1                   106\n",
       "4.2                    98\n",
       "4.7                    85\n",
       "4.0                    63\n",
       "4.8                    56\n",
       "4.5 out of 5 stars     45\n",
       "4.6 out of 5 stars     39\n",
       "4.4 out of 5 stars     36\n",
       "3.9                    35\n",
       "5.0                    30\n",
       "3.8                    27\n",
       "3.7                    25\n",
       "4.3 out of 5 stars     17\n",
       "4.1 out of 5 stars     17\n",
       "3.6                    16\n",
       "4.9                    14\n",
       "3.5                    13\n",
       "3.4                    12\n",
       "4.2 out of 5 stars     11\n",
       "4.0 out of 5 stars     11\n",
       "3.3                     8\n",
       "4.7 out of 5 stars      7\n",
       "3.6 out of 5 stars      6\n",
       "1.0                     3\n",
       "3.0                     3\n",
       "5.0 out of 5 stars      3\n",
       "1.4                     2\n",
       "3.1                     2\n",
       "3.2                     2\n",
       "2.4                     1\n",
       "2.0                     1\n",
       "Name: amazon_rating, dtype: int64"
      ]
     },
     "execution_count": 21,
     "metadata": {},
     "output_type": "execute_result"
    }
   ],
   "source": [
    "amazon[\"amazon_rating\"].value_counts()"
   ]
  },
  {
   "cell_type": "markdown",
   "id": "58b506f2",
   "metadata": {
    "papermill": {
     "duration": 0.067376,
     "end_time": "2021-07-16T17:10:43.551213",
     "exception": false,
     "start_time": "2021-07-16T17:10:43.483837",
     "status": "completed"
    },
    "tags": []
   },
   "source": [
    "# Coverting \"amazon_rating\" column from string to Integer format"
   ]
  },
  {
   "cell_type": "code",
   "execution_count": 22,
   "id": "dffabb81",
   "metadata": {
    "execution": {
     "iopub.execute_input": "2021-07-16T17:10:43.694419Z",
     "iopub.status.busy": "2021-07-16T17:10:43.693703Z",
     "iopub.status.idle": "2021-07-16T17:10:43.695505Z",
     "shell.execute_reply": "2021-07-16T17:10:43.695878Z",
     "shell.execute_reply.started": "2021-07-16T17:09:48.239660Z"
    },
    "papermill": {
     "duration": 0.075413,
     "end_time": "2021-07-16T17:10:43.696046",
     "exception": false,
     "start_time": "2021-07-16T17:10:43.620633",
     "status": "completed"
    },
    "tags": []
   },
   "outputs": [],
   "source": [
    "def rating_impute(col):\n",
    "    amazon_rating=col[0]\n",
    "    if amazon_rating==\"4.5 out of 5 stars\":\n",
    "        amazon_rating.replace(\"4.5 out of 5 stars\",\"4.5\")\n",
    "    elif amazon_rating==\"4.6 out of 5 stars\":\n",
    "        amazon_rating.replace(\"4.6 out of 5 stars\",\"4.6\")\n",
    "    elif amazon_rating==\"4.4 out of 5 stars\":\n",
    "        amazon_rating.replace(\"4.4 out of 5 stars\",\"4.4\")\n",
    "    elif amazon_rating==\"4.1 out of 5 stars\":\n",
    "        amazon_rating.replace(\"4.1 out of 5 stars\",\"4.1\")\n",
    "    elif amazon_rating==\"4.0 out of 5 stars\":\n",
    "        amazon_rating.replace(\"4.0 out of 5 stars\",\"4.0\")\n",
    "    elif amazon_rating==\"4.2 out of 5 stars\":\n",
    "        amazon_rating.replace(\"4.2 out of 5 stars\",\"4.2\")\n",
    "    elif amazon_rating==\"4.7 out of 5 stars\":\n",
    "        amazon_rating.replace(\"4.7 out of 5 stars\",\"4.7\")\n",
    "    elif amazon_rating==\"3.6 out of 5 stars\":\n",
    "        amazon_rating.replace(\"3.6 out of 5 stars\",\"3.6\")\n",
    "    elif amazon_rating==\"5.0 out of 5 stars\":\n",
    "        amazon_rating.replace(\"5.0 out of 5 stars\",\"5.0\")\n",
    "    elif amazon_rating==\"4.3 out of 5 stars\":\n",
    "        amazon_rating.replace(\"4.3 out of 5 stars\",\"4.3\")\n",
    "    else:\n",
    "        return amazon_rating"
   ]
  },
  {
   "cell_type": "code",
   "execution_count": 23,
   "id": "2ebaab94",
   "metadata": {
    "execution": {
     "iopub.execute_input": "2021-07-16T17:10:43.833136Z",
     "iopub.status.busy": "2021-07-16T17:10:43.832409Z",
     "iopub.status.idle": "2021-07-16T17:10:43.855960Z",
     "shell.execute_reply": "2021-07-16T17:10:43.856378Z",
     "shell.execute_reply.started": "2021-07-16T17:09:48.250077Z"
    },
    "papermill": {
     "duration": 0.092937,
     "end_time": "2021-07-16T17:10:43.856521",
     "exception": false,
     "start_time": "2021-07-16T17:10:43.763584",
     "status": "completed"
    },
    "tags": []
   },
   "outputs": [
    {
     "name": "stderr",
     "output_type": "stream",
     "text": [
      "/opt/conda/lib/python3.7/site-packages/ipykernel_launcher.py:1: SettingWithCopyWarning: \n",
      "A value is trying to be set on a copy of a slice from a DataFrame.\n",
      "Try using .loc[row_indexer,col_indexer] = value instead\n",
      "\n",
      "See the caveats in the documentation: https://pandas.pydata.org/pandas-docs/stable/user_guide/indexing.html#returning-a-view-versus-a-copy\n",
      "  \"\"\"Entry point for launching an IPython kernel.\n"
     ]
    },
    {
     "data": {
      "text/plain": [
       "4.4    193\n",
       "4.5    155\n",
       "4.3    118\n",
       "4.6    118\n",
       "4.1    106\n",
       "4.2     98\n",
       "4.7     85\n",
       "4.0     63\n",
       "4.8     56\n",
       "3.9     35\n",
       "5.0     30\n",
       "3.8     27\n",
       "3.7     25\n",
       "3.6     16\n",
       "4.9     14\n",
       "3.5     13\n",
       "3.4     12\n",
       "3.3      8\n",
       "3.0      3\n",
       "1.0      3\n",
       "1.4      2\n",
       "3.1      2\n",
       "3.2      2\n",
       "2.4      1\n",
       "2.0      1\n",
       "Name: amazon_rating, dtype: int64"
      ]
     },
     "execution_count": 23,
     "metadata": {},
     "output_type": "execute_result"
    }
   ],
   "source": [
    "amazon[\"amazon_rating\"]=  amazon[[\"amazon_rating\"]].apply(rating_impute, axis=1)\n",
    "amazon[\"amazon_rating\"].value_counts()"
   ]
  },
  {
   "cell_type": "markdown",
   "id": "3361835b",
   "metadata": {
    "papermill": {
     "duration": 0.067555,
     "end_time": "2021-07-16T17:10:43.993685",
     "exception": false,
     "start_time": "2021-07-16T17:10:43.926130",
     "status": "completed"
    },
    "tags": []
   },
   "source": [
    "# Values are coverted into Integer format"
   ]
  },
  {
   "cell_type": "markdown",
   "id": "b914367d",
   "metadata": {
    "papermill": {
     "duration": 0.068517,
     "end_time": "2021-07-16T17:10:44.130079",
     "exception": false,
     "start_time": "2021-07-16T17:10:44.061562",
     "status": "completed"
    },
    "tags": []
   },
   "source": [
    "# Lets check the range of ratings of every single book on amazon"
   ]
  },
  {
   "cell_type": "code",
   "execution_count": 24,
   "id": "1f2492cc",
   "metadata": {
    "execution": {
     "iopub.execute_input": "2021-07-16T17:10:44.268099Z",
     "iopub.status.busy": "2021-07-16T17:10:44.267517Z",
     "iopub.status.idle": "2021-07-16T17:10:44.582556Z",
     "shell.execute_reply": "2021-07-16T17:10:44.582066Z",
     "shell.execute_reply.started": "2021-07-16T17:09:48.277986Z"
    },
    "papermill": {
     "duration": 0.385291,
     "end_time": "2021-07-16T17:10:44.582670",
     "exception": false,
     "start_time": "2021-07-16T17:10:44.197379",
     "status": "completed"
    },
    "tags": []
   },
   "outputs": [
    {
     "name": "stderr",
     "output_type": "stream",
     "text": [
      "/opt/conda/lib/python3.7/site-packages/ipykernel_launcher.py:1: SettingWithCopyWarning: \n",
      "A value is trying to be set on a copy of a slice from a DataFrame.\n",
      "Try using .loc[row_indexer,col_indexer] = value instead\n",
      "\n",
      "See the caveats in the documentation: https://pandas.pydata.org/pandas-docs/stable/user_guide/indexing.html#returning-a-view-versus-a-copy\n",
      "  \"\"\"Entry point for launching an IPython kernel.\n"
     ]
    },
    {
     "data": {
      "text/plain": [
       "<AxesSubplot:xlabel='amazon_rating', ylabel='Count'>"
      ]
     },
     "execution_count": 24,
     "metadata": {},
     "output_type": "execute_result"
    },
    {
     "data": {
      "image/png": "[encoded data removed]",
      "text/plain": [
       "<Figure size 1080x576 with 1 Axes>"
      ]
     },
     "metadata": {},
     "output_type": "display_data"
    }
   ],
   "source": [
    "amazon[\"amazon_rating\"]=pd.to_numeric(amazon[\"amazon_rating\"])\n",
    "plt.figure(figsize=(15,8))\n",
    "sns.set(style=\"darkgrid\")\n",
    "sns.histplot(data=amazon,x=\"amazon_rating\", legend=True)"
   ]
  },
  {
   "cell_type": "markdown",
   "id": "06bd1da3",
   "metadata": {
    "papermill": {
     "duration": 0.073082,
     "end_time": "2021-07-16T17:10:44.728264",
     "exception": false,
     "start_time": "2021-07-16T17:10:44.655182",
     "status": "completed"
    },
    "tags": []
   },
   "source": [
    "# Most of the books has been rated in range of  3.0-5.0 "
   ]
  },
  {
   "cell_type": "markdown",
   "id": "4d99ca5e",
   "metadata": {
    "papermill": {
     "duration": 0.074245,
     "end_time": "2021-07-16T17:10:44.875509",
     "exception": false,
     "start_time": "2021-07-16T17:10:44.801264",
     "status": "completed"
    },
    "tags": []
   },
   "source": [
    "# Checking top 30 Author on Amazon"
   ]
  },
  {
   "cell_type": "code",
   "execution_count": 25,
   "id": "0a9a46a9",
   "metadata": {
    "execution": {
     "iopub.execute_input": "2021-07-16T17:10:45.030032Z",
     "iopub.status.busy": "2021-07-16T17:10:45.029443Z",
     "iopub.status.idle": "2021-07-16T17:10:45.038825Z",
     "shell.execute_reply": "2021-07-16T17:10:45.038422Z",
     "shell.execute_reply.started": "2021-07-16T17:09:48.623968Z"
    },
    "papermill": {
     "duration": 0.090827,
     "end_time": "2021-07-16T17:10:45.038972",
     "exception": false,
     "start_time": "2021-07-16T17:10:44.948145",
     "status": "completed"
    },
    "tags": []
   },
   "outputs": [
    {
     "data": {
      "text/html": [
       "<div>\n",
       "<style scoped>\n",
       "    .dataframe tbody tr th:only-of-type {\n",
       "        vertical-align: middle;\n",
       "    }\n",
       "\n",
       "    .dataframe tbody tr th {\n",
       "        vertical-align: top;\n",
       "    }\n",
       "\n",
       "    .dataframe thead th {\n",
       "        text-align: right;\n",
       "    }\n",
       "</style>\n",
       "<table border=\"1\" class=\"dataframe\">\n",
       "  <thead>\n",
       "    <tr style=\"text-align: right;\">\n",
       "      <th></th>\n",
       "      <th>amazon_title</th>\n",
       "      <th>amazon_author</th>\n",
       "      <th>amazon_rating</th>\n",
       "      <th>amazon_reviews count</th>\n",
       "      <th>amazon_isbn-10</th>\n",
       "      <th>amazon_price</th>\n",
       "    </tr>\n",
       "  </thead>\n",
       "  <tbody>\n",
       "    <tr>\n",
       "      <th>0</th>\n",
       "      <td>Tell Me your Dreams</td>\n",
       "      <td>by Sidney Sheldon</td>\n",
       "      <td>4.4</td>\n",
       "      <td>160.0</td>\n",
       "      <td>8172234902</td>\n",
       "      <td>209</td>\n",
       "    </tr>\n",
       "    <tr>\n",
       "      <th>1</th>\n",
       "      <td>The Boy in the Striped Pyjamas (Definitions)</td>\n",
       "      <td>by John Boyne</td>\n",
       "      <td>4.6</td>\n",
       "      <td>134.0</td>\n",
       "      <td>1862305277</td>\n",
       "      <td>350</td>\n",
       "    </tr>\n",
       "    <tr>\n",
       "      <th>2</th>\n",
       "      <td>Romancing the Balance Sheet: For Anyone Who Ow...</td>\n",
       "      <td>by Anil Lamba</td>\n",
       "      <td>4.5</td>\n",
       "      <td>156.0</td>\n",
       "      <td>9350294311</td>\n",
       "      <td>477</td>\n",
       "    </tr>\n",
       "    <tr>\n",
       "      <th>3</th>\n",
       "      <td>Mossad</td>\n",
       "      <td>by Michael Bar-Zohar - Import</td>\n",
       "      <td>4.6</td>\n",
       "      <td>637.0</td>\n",
       "      <td>8184958455</td>\n",
       "      <td>340</td>\n",
       "    </tr>\n",
       "    <tr>\n",
       "      <th>4</th>\n",
       "      <td>My Story</td>\n",
       "      <td>by Kamala Das</td>\n",
       "      <td>4.5</td>\n",
       "      <td>42.0</td>\n",
       "      <td>8172238975</td>\n",
       "      <td>178</td>\n",
       "    </tr>\n",
       "  </tbody>\n",
       "</table>\n",
       "</div>"
      ],
      "text/plain": [
       "                                        amazon_title  \\\n",
       "0                                Tell Me your Dreams   \n",
       "1       The Boy in the Striped Pyjamas (Definitions)   \n",
       "2  Romancing the Balance Sheet: For Anyone Who Ow...   \n",
       "3                                             Mossad   \n",
       "4                                           My Story   \n",
       "\n",
       "                   amazon_author  amazon_rating  amazon_reviews count  \\\n",
       "0              by Sidney Sheldon            4.4                 160.0   \n",
       "1                  by John Boyne            4.6                 134.0   \n",
       "2                  by Anil Lamba            4.5                 156.0   \n",
       "3  by Michael Bar-Zohar - Import            4.6                 637.0   \n",
       "4                  by Kamala Das            4.5                  42.0   \n",
       "\n",
       "   amazon_isbn-10  amazon_price  \n",
       "0      8172234902           209  \n",
       "1      1862305277           350  \n",
       "2      9350294311           477  \n",
       "3      8184958455           340  \n",
       "4      8172238975           178  "
      ]
     },
     "execution_count": 25,
     "metadata": {},
     "output_type": "execute_result"
    }
   ],
   "source": [
    "amazon.head()"
   ]
  },
  {
   "cell_type": "code",
   "execution_count": 26,
   "id": "533cce9d",
   "metadata": {
    "execution": {
     "iopub.execute_input": "2021-07-16T17:10:45.189215Z",
     "iopub.status.busy": "2021-07-16T17:10:45.188673Z",
     "iopub.status.idle": "2021-07-16T17:10:45.192407Z",
     "shell.execute_reply": "2021-07-16T17:10:45.192799Z",
     "shell.execute_reply.started": "2021-07-16T17:09:48.641844Z"
    },
    "papermill": {
     "duration": 0.082111,
     "end_time": "2021-07-16T17:10:45.192977",
     "exception": false,
     "start_time": "2021-07-16T17:10:45.110866",
     "status": "completed"
    },
    "tags": []
   },
   "outputs": [],
   "source": [
    "L1=list(amazon[\"amazon_author\"].value_counts().keys()[0:30])\n",
    "L2=list(amazon[\"amazon_author\"].value_counts().values[0:30])"
   ]
  },
  {
   "cell_type": "code",
   "execution_count": 27,
   "id": "641ef28e",
   "metadata": {
    "execution": {
     "iopub.execute_input": "2021-07-16T17:10:45.340366Z",
     "iopub.status.busy": "2021-07-16T17:10:45.339872Z",
     "iopub.status.idle": "2021-07-16T17:10:45.890602Z",
     "shell.execute_reply": "2021-07-16T17:10:45.891049Z",
     "shell.execute_reply.started": "2021-07-16T17:09:48.652327Z"
    },
    "papermill": {
     "duration": 0.625125,
     "end_time": "2021-07-16T17:10:45.891198",
     "exception": false,
     "start_time": "2021-07-16T17:10:45.266073",
     "status": "completed"
    },
    "tags": []
   },
   "outputs": [
    {
     "data": {
      "text/plain": [
       "Text(0, 0.5, 'Authors on Amazon')"
      ]
     },
     "execution_count": 27,
     "metadata": {},
     "output_type": "execute_result"
    },
    {
     "data": {
      "image/png": "[encoded data removed]",
      "text/plain": [
       "<Figure size 1080x576 with 1 Axes>"
      ]
     },
     "metadata": {},
     "output_type": "display_data"
    }
   ],
   "source": [
    "plt.figure(figsize=(15,8))\n",
    "sns.set(style=\"darkgrid\")\n",
    "sns.barplot(x=L2,y=L1,data=amazon)\n",
    "plt.xlabel(\"Count\")\n",
    "plt.ylabel(\"Authors on Amazon\")"
   ]
  },
  {
   "cell_type": "markdown",
   "id": "afd22297",
   "metadata": {
    "papermill": {
     "duration": 0.07333,
     "end_time": "2021-07-16T17:10:46.036599",
     "exception": false,
     "start_time": "2021-07-16T17:10:45.963269",
     "status": "completed"
    },
    "tags": []
   },
   "source": [
    "# Flipkart "
   ]
  },
  {
   "cell_type": "code",
   "execution_count": 28,
   "id": "52329767",
   "metadata": {
    "execution": {
     "iopub.execute_input": "2021-07-16T17:10:46.194681Z",
     "iopub.status.busy": "2021-07-16T17:10:46.194157Z",
     "iopub.status.idle": "2021-07-16T17:10:46.196399Z",
     "shell.execute_reply": "2021-07-16T17:10:46.196944Z",
     "shell.execute_reply.started": "2021-07-16T17:09:49.308628Z"
    },
    "papermill": {
     "duration": 0.088886,
     "end_time": "2021-07-16T17:10:46.197083",
     "exception": false,
     "start_time": "2021-07-16T17:10:46.108197",
     "status": "completed"
    },
    "tags": []
   },
   "outputs": [
    {
     "data": {
      "text/html": [
       "<div>\n",
       "<style scoped>\n",
       "    .dataframe tbody tr th:only-of-type {\n",
       "        vertical-align: middle;\n",
       "    }\n",
       "\n",
       "    .dataframe tbody tr th {\n",
       "        vertical-align: top;\n",
       "    }\n",
       "\n",
       "    .dataframe thead th {\n",
       "        text-align: right;\n",
       "    }\n",
       "</style>\n",
       "<table border=\"1\" class=\"dataframe\">\n",
       "  <thead>\n",
       "    <tr style=\"text-align: right;\">\n",
       "      <th></th>\n",
       "      <th>flipkart_author</th>\n",
       "      <th>flipkart_isbn10</th>\n",
       "      <th>flipkart_title</th>\n",
       "      <th>flipkart_ratings count</th>\n",
       "      <th>flipkart_price</th>\n",
       "      <th>flipkart_stars</th>\n",
       "    </tr>\n",
       "  </thead>\n",
       "  <tbody>\n",
       "    <tr>\n",
       "      <th>0</th>\n",
       "      <td>Sidney Sheldon</td>\n",
       "      <td>8172234902</td>\n",
       "      <td>TELL ME YOUR DREAMS</td>\n",
       "      <td>902</td>\n",
       "      <td>209</td>\n",
       "      <td>4.5</td>\n",
       "    </tr>\n",
       "    <tr>\n",
       "      <th>1</th>\n",
       "      <td></td>\n",
       "      <td>1862305277</td>\n",
       "      <td>The Boy in the Striped Pyjamas</td>\n",
       "      <td>83</td>\n",
       "      <td>372</td>\n",
       "      <td>4.5</td>\n",
       "    </tr>\n",
       "    <tr>\n",
       "      <th>2</th>\n",
       "      <td>Anil Lamba</td>\n",
       "      <td>9350294311</td>\n",
       "      <td>ROMANCING THE BALANCE SHEET</td>\n",
       "      <td>352</td>\n",
       "      <td>477</td>\n",
       "      <td>4.5</td>\n",
       "    </tr>\n",
       "    <tr>\n",
       "      <th>3</th>\n",
       "      <td>Bar-Zohar Michael</td>\n",
       "      <td>8184958455</td>\n",
       "      <td>Mossad</td>\n",
       "      <td>560</td>\n",
       "      <td>280</td>\n",
       "      <td>4.5</td>\n",
       "    </tr>\n",
       "    <tr>\n",
       "      <th>4</th>\n",
       "      <td>Kamala Das</td>\n",
       "      <td>8172238975</td>\n",
       "      <td>MY STORY</td>\n",
       "      <td>322</td>\n",
       "      <td>178</td>\n",
       "      <td>4.3</td>\n",
       "    </tr>\n",
       "  </tbody>\n",
       "</table>\n",
       "</div>"
      ],
      "text/plain": [
       "       flipkart_author  flipkart_isbn10                   flipkart_title  \\\n",
       "0       Sidney Sheldon       8172234902              TELL ME YOUR DREAMS   \n",
       "1                            1862305277   The Boy in the Striped Pyjamas   \n",
       "2           Anil Lamba       9350294311      ROMANCING THE BALANCE SHEET   \n",
       "3    Bar-Zohar Michael       8184958455                           Mossad   \n",
       "4           Kamala Das       8172238975                         MY STORY   \n",
       "\n",
       "  flipkart_ratings count  flipkart_price flipkart_stars  \n",
       "0                    902             209            4.5  \n",
       "1                     83             372            4.5  \n",
       "2                    352             477            4.5  \n",
       "3                    560             280            4.5  \n",
       "4                    322             178            4.3  "
      ]
     },
     "execution_count": 28,
     "metadata": {},
     "output_type": "execute_result"
    }
   ],
   "source": [
    "flipkart.head()"
   ]
  },
  {
   "cell_type": "code",
   "execution_count": 29,
   "id": "067cd0cd",
   "metadata": {
    "execution": {
     "iopub.execute_input": "2021-07-16T17:10:46.347607Z",
     "iopub.status.busy": "2021-07-16T17:10:46.347033Z",
     "iopub.status.idle": "2021-07-16T17:10:46.364683Z",
     "shell.execute_reply": "2021-07-16T17:10:46.365080Z",
     "shell.execute_reply.started": "2021-07-16T17:09:49.322694Z"
    },
    "papermill": {
     "duration": 0.094185,
     "end_time": "2021-07-16T17:10:46.365260",
     "exception": false,
     "start_time": "2021-07-16T17:10:46.271075",
     "status": "completed"
    },
    "tags": []
   },
   "outputs": [
    {
     "data": {
      "text/html": [
       "<div>\n",
       "<style scoped>\n",
       "    .dataframe tbody tr th:only-of-type {\n",
       "        vertical-align: middle;\n",
       "    }\n",
       "\n",
       "    .dataframe tbody tr th {\n",
       "        vertical-align: top;\n",
       "    }\n",
       "\n",
       "    .dataframe thead th {\n",
       "        text-align: right;\n",
       "    }\n",
       "</style>\n",
       "<table border=\"1\" class=\"dataframe\">\n",
       "  <thead>\n",
       "    <tr style=\"text-align: right;\">\n",
       "      <th></th>\n",
       "      <th>flipkart_isbn10</th>\n",
       "      <th>flipkart_price</th>\n",
       "    </tr>\n",
       "  </thead>\n",
       "  <tbody>\n",
       "    <tr>\n",
       "      <th>count</th>\n",
       "      <td>1.382000e+03</td>\n",
       "      <td>1382.000000</td>\n",
       "    </tr>\n",
       "    <tr>\n",
       "      <th>mean</th>\n",
       "      <td>7.758529e+09</td>\n",
       "      <td>263.436324</td>\n",
       "    </tr>\n",
       "    <tr>\n",
       "      <th>std</th>\n",
       "      <td>2.643135e+09</td>\n",
       "      <td>210.164006</td>\n",
       "    </tr>\n",
       "    <tr>\n",
       "      <th>min</th>\n",
       "      <td>1.250006e+09</td>\n",
       "      <td>30.000000</td>\n",
       "    </tr>\n",
       "    <tr>\n",
       "      <th>25%</th>\n",
       "      <td>8.172235e+09</td>\n",
       "      <td>149.250000</td>\n",
       "    </tr>\n",
       "    <tr>\n",
       "      <th>50%</th>\n",
       "      <td>8.192911e+09</td>\n",
       "      <td>220.000000</td>\n",
       "    </tr>\n",
       "    <tr>\n",
       "      <th>75%</th>\n",
       "      <td>9.352865e+09</td>\n",
       "      <td>320.000000</td>\n",
       "    </tr>\n",
       "    <tr>\n",
       "      <th>max</th>\n",
       "      <td>9.960900e+09</td>\n",
       "      <td>5201.000000</td>\n",
       "    </tr>\n",
       "  </tbody>\n",
       "</table>\n",
       "</div>"
      ],
      "text/plain": [
       "       flipkart_isbn10  flipkart_price\n",
       "count     1.382000e+03     1382.000000\n",
       "mean      7.758529e+09      263.436324\n",
       "std       2.643135e+09      210.164006\n",
       "min       1.250006e+09       30.000000\n",
       "25%       8.172235e+09      149.250000\n",
       "50%       8.192911e+09      220.000000\n",
       "75%       9.352865e+09      320.000000\n",
       "max       9.960900e+09     5201.000000"
      ]
     },
     "execution_count": 29,
     "metadata": {},
     "output_type": "execute_result"
    }
   ],
   "source": [
    "flipkart.describe()"
   ]
  },
  {
   "cell_type": "markdown",
   "id": "6641db2d",
   "metadata": {
    "papermill": {
     "duration": 0.071844,
     "end_time": "2021-07-16T17:10:46.510786",
     "exception": false,
     "start_time": "2021-07-16T17:10:46.438942",
     "status": "completed"
    },
    "tags": []
   },
   "source": [
    "# Lets check the range of prices of every single book on Flipkart"
   ]
  },
  {
   "cell_type": "code",
   "execution_count": 30,
   "id": "fdcfa0d2",
   "metadata": {
    "execution": {
     "iopub.execute_input": "2021-07-16T17:10:46.659633Z",
     "iopub.status.busy": "2021-07-16T17:10:46.659017Z",
     "iopub.status.idle": "2021-07-16T17:10:47.140312Z",
     "shell.execute_reply": "2021-07-16T17:10:47.139878Z",
     "shell.execute_reply.started": "2021-07-16T17:09:49.346533Z"
    },
    "papermill": {
     "duration": 0.557634,
     "end_time": "2021-07-16T17:10:47.140426",
     "exception": false,
     "start_time": "2021-07-16T17:10:46.582792",
     "status": "completed"
    },
    "tags": []
   },
   "outputs": [
    {
     "data": {
      "text/plain": [
       "<AxesSubplot:xlabel='flipkart_price', ylabel='Count'>"
      ]
     },
     "execution_count": 30,
     "metadata": {},
     "output_type": "execute_result"
    },
    {
     "data": {
      "image/png": "[encoded data removed]",
      "text/plain": [
       "<Figure size 1080x576 with 1 Axes>"
      ]
     },
     "metadata": {},
     "output_type": "display_data"
    }
   ],
   "source": [
    "plt.figure(figsize=(15,8))\n",
    "sns.set(style=\"darkgrid\")\n",
    "sns.histplot(data=flipkart,x=\"flipkart_price\",kde=True, legend=True,bins=150)"
   ]
  },
  {
   "cell_type": "markdown",
   "id": "0014937b",
   "metadata": {
    "papermill": {
     "duration": 0.075095,
     "end_time": "2021-07-16T17:10:47.292194",
     "exception": false,
     "start_time": "2021-07-16T17:10:47.217099",
     "status": "completed"
    },
    "tags": []
   },
   "source": [
    "# As we can see most of the books lie in the range of 0-1000 (unit is not mentioned in Dataset) and very few lie in range of 1000-2000"
   ]
  },
  {
   "cell_type": "markdown",
   "id": "6241c2b6",
   "metadata": {
    "papermill": {
     "duration": 0.117147,
     "end_time": "2021-07-16T17:10:47.482120",
     "exception": false,
     "start_time": "2021-07-16T17:10:47.364973",
     "status": "completed"
    },
    "tags": []
   },
   "source": [
    "# Lets check the ratings of every book on flipkart"
   ]
  },
  {
   "cell_type": "code",
   "execution_count": 31,
   "id": "04485d8a",
   "metadata": {
    "execution": {
     "iopub.execute_input": "2021-07-16T17:10:47.638341Z",
     "iopub.status.busy": "2021-07-16T17:10:47.637482Z",
     "iopub.status.idle": "2021-07-16T17:10:47.642306Z",
     "shell.execute_reply": "2021-07-16T17:10:47.641645Z",
     "shell.execute_reply.started": "2021-07-16T17:09:49.843274Z"
    },
    "papermill": {
     "duration": 0.086072,
     "end_time": "2021-07-16T17:10:47.642444",
     "exception": false,
     "start_time": "2021-07-16T17:10:47.556372",
     "status": "completed"
    },
    "tags": []
   },
   "outputs": [
    {
     "data": {
      "text/plain": [
       "4.5    350\n",
       "4.4    319\n",
       "4.3    207\n",
       "4.6    197\n",
       "4.2     92\n",
       "4.7     57\n",
       "4.8     36\n",
       "4.1     34\n",
       "4       25\n",
       "        24\n",
       "5       13\n",
       "3.9     10\n",
       "4.9      7\n",
       "3.8      6\n",
       "3.6      2\n",
       "3        2\n",
       "3.7      1\n",
       "Name: flipkart_stars, dtype: int64"
      ]
     },
     "execution_count": 31,
     "metadata": {},
     "output_type": "execute_result"
    }
   ],
   "source": [
    "flipkart[\"flipkart_stars\"].value_counts()"
   ]
  },
  {
   "cell_type": "markdown",
   "id": "bf758783",
   "metadata": {
    "papermill": {
     "duration": 0.110619,
     "end_time": "2021-07-16T17:10:47.864403",
     "exception": false,
     "start_time": "2021-07-16T17:10:47.753784",
     "status": "completed"
    },
    "tags": []
   },
   "source": [
    "# Removing the rows from data having null \"flipkart_stars\" values"
   ]
  },
  {
   "cell_type": "code",
   "execution_count": 32,
   "id": "3770a38a",
   "metadata": {
    "execution": {
     "iopub.execute_input": "2021-07-16T17:10:48.043354Z",
     "iopub.status.busy": "2021-07-16T17:10:48.042204Z",
     "iopub.status.idle": "2021-07-16T17:10:48.046192Z",
     "shell.execute_reply": "2021-07-16T17:10:48.045694Z",
     "shell.execute_reply.started": "2021-07-16T17:09:49.851978Z"
    },
    "papermill": {
     "duration": 0.090296,
     "end_time": "2021-07-16T17:10:48.046312",
     "exception": false,
     "start_time": "2021-07-16T17:10:47.956016",
     "status": "completed"
    },
    "tags": []
   },
   "outputs": [],
   "source": [
    "flipkart_1=flipkart[flipkart[\"flipkart_stars\"]!=\" \"]"
   ]
  },
  {
   "cell_type": "code",
   "execution_count": 33,
   "id": "f27d97a8",
   "metadata": {
    "execution": {
     "iopub.execute_input": "2021-07-16T17:10:48.208135Z",
     "iopub.status.busy": "2021-07-16T17:10:48.207538Z",
     "iopub.status.idle": "2021-07-16T17:10:48.212440Z",
     "shell.execute_reply": "2021-07-16T17:10:48.211877Z",
     "shell.execute_reply.started": "2021-07-16T17:09:49.862929Z"
    },
    "papermill": {
     "duration": 0.091851,
     "end_time": "2021-07-16T17:10:48.212567",
     "exception": false,
     "start_time": "2021-07-16T17:10:48.120716",
     "status": "completed"
    },
    "tags": []
   },
   "outputs": [
    {
     "data": {
      "text/html": [
       "<div>\n",
       "<style scoped>\n",
       "    .dataframe tbody tr th:only-of-type {\n",
       "        vertical-align: middle;\n",
       "    }\n",
       "\n",
       "    .dataframe tbody tr th {\n",
       "        vertical-align: top;\n",
       "    }\n",
       "\n",
       "    .dataframe thead th {\n",
       "        text-align: right;\n",
       "    }\n",
       "</style>\n",
       "<table border=\"1\" class=\"dataframe\">\n",
       "  <thead>\n",
       "    <tr style=\"text-align: right;\">\n",
       "      <th></th>\n",
       "      <th>flipkart_author</th>\n",
       "      <th>flipkart_isbn10</th>\n",
       "      <th>flipkart_title</th>\n",
       "      <th>flipkart_ratings count</th>\n",
       "      <th>flipkart_price</th>\n",
       "      <th>flipkart_stars</th>\n",
       "    </tr>\n",
       "  </thead>\n",
       "  <tbody>\n",
       "    <tr>\n",
       "      <th>0</th>\n",
       "      <td>Sidney Sheldon</td>\n",
       "      <td>8172234902</td>\n",
       "      <td>TELL ME YOUR DREAMS</td>\n",
       "      <td>902</td>\n",
       "      <td>209</td>\n",
       "      <td>4.5</td>\n",
       "    </tr>\n",
       "    <tr>\n",
       "      <th>1</th>\n",
       "      <td></td>\n",
       "      <td>1862305277</td>\n",
       "      <td>The Boy in the Striped Pyjamas</td>\n",
       "      <td>83</td>\n",
       "      <td>372</td>\n",
       "      <td>4.5</td>\n",
       "    </tr>\n",
       "    <tr>\n",
       "      <th>2</th>\n",
       "      <td>Anil Lamba</td>\n",
       "      <td>9350294311</td>\n",
       "      <td>ROMANCING THE BALANCE SHEET</td>\n",
       "      <td>352</td>\n",
       "      <td>477</td>\n",
       "      <td>4.5</td>\n",
       "    </tr>\n",
       "    <tr>\n",
       "      <th>3</th>\n",
       "      <td>Bar-Zohar Michael</td>\n",
       "      <td>8184958455</td>\n",
       "      <td>Mossad</td>\n",
       "      <td>560</td>\n",
       "      <td>280</td>\n",
       "      <td>4.5</td>\n",
       "    </tr>\n",
       "    <tr>\n",
       "      <th>4</th>\n",
       "      <td>Kamala Das</td>\n",
       "      <td>8172238975</td>\n",
       "      <td>MY STORY</td>\n",
       "      <td>322</td>\n",
       "      <td>178</td>\n",
       "      <td>4.3</td>\n",
       "    </tr>\n",
       "  </tbody>\n",
       "</table>\n",
       "</div>"
      ],
      "text/plain": [
       "       flipkart_author  flipkart_isbn10                   flipkart_title  \\\n",
       "0       Sidney Sheldon       8172234902              TELL ME YOUR DREAMS   \n",
       "1                            1862305277   The Boy in the Striped Pyjamas   \n",
       "2           Anil Lamba       9350294311      ROMANCING THE BALANCE SHEET   \n",
       "3    Bar-Zohar Michael       8184958455                           Mossad   \n",
       "4           Kamala Das       8172238975                         MY STORY   \n",
       "\n",
       "  flipkart_ratings count  flipkart_price flipkart_stars  \n",
       "0                    902             209            4.5  \n",
       "1                     83             372            4.5  \n",
       "2                    352             477            4.5  \n",
       "3                    560             280            4.5  \n",
       "4                    322             178            4.3  "
      ]
     },
     "execution_count": 33,
     "metadata": {},
     "output_type": "execute_result"
    }
   ],
   "source": [
    "flipkart_1.head()"
   ]
  },
  {
   "cell_type": "markdown",
   "id": "12373694",
   "metadata": {
    "papermill": {
     "duration": 0.073636,
     "end_time": "2021-07-16T17:10:48.362666",
     "exception": false,
     "start_time": "2021-07-16T17:10:48.289030",
     "status": "completed"
    },
    "tags": []
   },
   "source": [
    "# Now the Null values in column \"flipkart_star\" are being droped"
   ]
  },
  {
   "cell_type": "code",
   "execution_count": 34,
   "id": "a97d6fdf",
   "metadata": {
    "execution": {
     "iopub.execute_input": "2021-07-16T17:10:48.523842Z",
     "iopub.status.busy": "2021-07-16T17:10:48.523324Z",
     "iopub.status.idle": "2021-07-16T17:10:48.526823Z",
     "shell.execute_reply": "2021-07-16T17:10:48.526252Z",
     "shell.execute_reply.started": "2021-07-16T17:09:49.880420Z"
    },
    "papermill": {
     "duration": 0.089832,
     "end_time": "2021-07-16T17:10:48.526951",
     "exception": false,
     "start_time": "2021-07-16T17:10:48.437119",
     "status": "completed"
    },
    "tags": []
   },
   "outputs": [
    {
     "data": {
      "text/plain": [
       "4.5    350\n",
       "4.4    319\n",
       "4.3    207\n",
       "4.6    197\n",
       "4.2     92\n",
       "4.7     57\n",
       "4.8     36\n",
       "4.1     34\n",
       "4       25\n",
       "5       13\n",
       "3.9     10\n",
       "4.9      7\n",
       "3.8      6\n",
       "3        2\n",
       "3.6      2\n",
       "3.7      1\n",
       "Name: flipkart_stars, dtype: int64"
      ]
     },
     "execution_count": 34,
     "metadata": {},
     "output_type": "execute_result"
    }
   ],
   "source": [
    "flipkart_1[\"flipkart_stars\"].value_counts()"
   ]
  },
  {
   "cell_type": "markdown",
   "id": "c95f2099",
   "metadata": {
    "papermill": {
     "duration": 0.074396,
     "end_time": "2021-07-16T17:10:48.675163",
     "exception": false,
     "start_time": "2021-07-16T17:10:48.600767",
     "status": "completed"
    },
    "tags": []
   },
   "source": [
    "# Converting the string values of \"flipkart_stars\" to interger"
   ]
  },
  {
   "cell_type": "code",
   "execution_count": 35,
   "id": "542204e6",
   "metadata": {
    "execution": {
     "iopub.execute_input": "2021-07-16T17:10:48.826259Z",
     "iopub.status.busy": "2021-07-16T17:10:48.825747Z",
     "iopub.status.idle": "2021-07-16T17:10:48.833030Z",
     "shell.execute_reply": "2021-07-16T17:10:48.832591Z",
     "shell.execute_reply.started": "2021-07-16T17:09:49.894470Z"
    },
    "papermill": {
     "duration": 0.083059,
     "end_time": "2021-07-16T17:10:48.833150",
     "exception": false,
     "start_time": "2021-07-16T17:10:48.750091",
     "status": "completed"
    },
    "tags": []
   },
   "outputs": [],
   "source": [
    "def stars_impute(col):\n",
    "    flipkart_stars=col[0]\n",
    "    if flipkart_stars==\" 4\":\n",
    "        flipkart_stars.str.replace(\" 4\",\"4.0\")\n",
    "    elif flipkart_stars==\" 5\":\n",
    "        flipkart_stars.str.replace(\" 5\",\"5.0\")\n",
    "    elif flipkart_stars==\" 3\":\n",
    "        flipkart_stars.str.replace(\" 3\",\"3.0\")\n",
    "    else:\n",
    "        return flipkart_stars"
   ]
  },
  {
   "cell_type": "code",
   "execution_count": 36,
   "id": "c7f22ebc",
   "metadata": {
    "execution": {
     "iopub.execute_input": "2021-07-16T17:10:49.000028Z",
     "iopub.status.busy": "2021-07-16T17:10:48.993115Z",
     "iopub.status.idle": "2021-07-16T17:10:49.004112Z",
     "shell.execute_reply": "2021-07-16T17:10:49.003634Z",
     "shell.execute_reply.started": "2021-07-16T17:09:49.902926Z"
    },
    "papermill": {
     "duration": 0.097832,
     "end_time": "2021-07-16T17:10:49.004225",
     "exception": false,
     "start_time": "2021-07-16T17:10:48.906393",
     "status": "completed"
    },
    "tags": []
   },
   "outputs": [
    {
     "name": "stderr",
     "output_type": "stream",
     "text": [
      "/opt/conda/lib/python3.7/site-packages/ipykernel_launcher.py:1: SettingWithCopyWarning: \n",
      "A value is trying to be set on a copy of a slice from a DataFrame.\n",
      "Try using .loc[row_indexer,col_indexer] = value instead\n",
      "\n",
      "See the caveats in the documentation: https://pandas.pydata.org/pandas-docs/stable/user_guide/indexing.html#returning-a-view-versus-a-copy\n",
      "  \"\"\"Entry point for launching an IPython kernel.\n"
     ]
    }
   ],
   "source": [
    "flipkart_1[\"flipkart_stars\"]=flipkart_1[[\"flipkart_stars\"]].apply( stars_impute,axis=1)"
   ]
  },
  {
   "cell_type": "code",
   "execution_count": 37,
   "id": "f999aa36",
   "metadata": {
    "execution": {
     "iopub.execute_input": "2021-07-16T17:10:49.155738Z",
     "iopub.status.busy": "2021-07-16T17:10:49.155126Z",
     "iopub.status.idle": "2021-07-16T17:10:49.161287Z",
     "shell.execute_reply": "2021-07-16T17:10:49.161696Z",
     "shell.execute_reply.started": "2021-07-16T17:09:49.928220Z"
    },
    "papermill": {
     "duration": 0.083155,
     "end_time": "2021-07-16T17:10:49.161853",
     "exception": false,
     "start_time": "2021-07-16T17:10:49.078698",
     "status": "completed"
    },
    "tags": []
   },
   "outputs": [
    {
     "name": "stderr",
     "output_type": "stream",
     "text": [
      "/opt/conda/lib/python3.7/site-packages/ipykernel_launcher.py:2: SettingWithCopyWarning: \n",
      "A value is trying to be set on a copy of a slice from a DataFrame.\n",
      "Try using .loc[row_indexer,col_indexer] = value instead\n",
      "\n",
      "See the caveats in the documentation: https://pandas.pydata.org/pandas-docs/stable/user_guide/indexing.html#returning-a-view-versus-a-copy\n",
      "  \n"
     ]
    }
   ],
   "source": [
    "flipkart_1[\"flipkart_stars\"].value_counts()\n",
    "flipkart_1[\"flipkart_stars\"]=pd.to_numeric(flipkart_1[\"flipkart_stars\"])"
   ]
  },
  {
   "cell_type": "markdown",
   "id": "c3337505",
   "metadata": {
    "papermill": {
     "duration": 0.075427,
     "end_time": "2021-07-16T17:10:49.313140",
     "exception": false,
     "start_time": "2021-07-16T17:10:49.237713",
     "status": "completed"
    },
    "tags": []
   },
   "source": [
    "# Lets check the range of stars given to every single book on Flipkart"
   ]
  },
  {
   "cell_type": "code",
   "execution_count": 38,
   "id": "7eaddcd3",
   "metadata": {
    "execution": {
     "iopub.execute_input": "2021-07-16T17:10:49.488296Z",
     "iopub.status.busy": "2021-07-16T17:10:49.485328Z",
     "iopub.status.idle": "2021-07-16T17:10:49.781288Z",
     "shell.execute_reply": "2021-07-16T17:10:49.780714Z",
     "shell.execute_reply.started": "2021-07-16T17:09:49.937179Z"
    },
    "papermill": {
     "duration": 0.393779,
     "end_time": "2021-07-16T17:10:49.781441",
     "exception": false,
     "start_time": "2021-07-16T17:10:49.387662",
     "status": "completed"
    },
    "tags": []
   },
   "outputs": [
    {
     "data": {
      "text/plain": [
       "<AxesSubplot:xlabel='flipkart_stars', ylabel='Count'>"
      ]
     },
     "execution_count": 38,
     "metadata": {},
     "output_type": "execute_result"
    },
    {
     "data": {
      "image/png": "[encoded data removed]",
      "text/plain": [
       "<Figure size 1080x576 with 1 Axes>"
      ]
     },
     "metadata": {},
     "output_type": "display_data"
    }
   ],
   "source": [
    "plt.figure(figsize=(15,8))\n",
    "sns.set(style=\"darkgrid\")\n",
    "sns.histplot(data=flipkart_1,x=\"flipkart_stars\", legend=True)"
   ]
  },
  {
   "cell_type": "markdown",
   "id": "e6e2324c",
   "metadata": {
    "papermill": {
     "duration": 0.113805,
     "end_time": "2021-07-16T17:10:50.008590",
     "exception": false,
     "start_time": "2021-07-16T17:10:49.894785",
     "status": "completed"
    },
    "tags": []
   },
   "source": [
    "# Checking top 30 Author on Flipkart"
   ]
  },
  {
   "cell_type": "code",
   "execution_count": 39,
   "id": "080ffc21",
   "metadata": {
    "execution": {
     "iopub.execute_input": "2021-07-16T17:10:50.250223Z",
     "iopub.status.busy": "2021-07-16T17:10:50.249536Z",
     "iopub.status.idle": "2021-07-16T17:10:50.252682Z",
     "shell.execute_reply": "2021-07-16T17:10:50.252036Z",
     "shell.execute_reply.started": "2021-07-16T17:09:50.290017Z"
    },
    "papermill": {
     "duration": 0.125806,
     "end_time": "2021-07-16T17:10:50.252832",
     "exception": false,
     "start_time": "2021-07-16T17:10:50.127026",
     "status": "completed"
    },
    "tags": []
   },
   "outputs": [],
   "source": [
    "flipkart_1=flipkart_1[flipkart_1[\"flipkart_author\"]!=\" \"]"
   ]
  },
  {
   "cell_type": "code",
   "execution_count": 40,
   "id": "8b2768f8",
   "metadata": {
    "execution": {
     "iopub.execute_input": "2021-07-16T17:10:50.492065Z",
     "iopub.status.busy": "2021-07-16T17:10:50.491417Z",
     "iopub.status.idle": "2021-07-16T17:10:50.494673Z",
     "shell.execute_reply": "2021-07-16T17:10:50.494104Z",
     "shell.execute_reply.started": "2021-07-16T17:09:50.298958Z"
    },
    "papermill": {
     "duration": 0.126298,
     "end_time": "2021-07-16T17:10:50.494852",
     "exception": false,
     "start_time": "2021-07-16T17:10:50.368554",
     "status": "completed"
    },
    "tags": []
   },
   "outputs": [],
   "source": [
    "L1=list(flipkart_1[\"flipkart_author\"].value_counts().keys()[0:30])\n",
    "L2=list(flipkart_1[\"flipkart_author\"].value_counts().values[0:30])"
   ]
  },
  {
   "cell_type": "code",
   "execution_count": 41,
   "id": "93fbf7ec",
   "metadata": {
    "execution": {
     "iopub.execute_input": "2021-07-16T17:10:50.748823Z",
     "iopub.status.busy": "2021-07-16T17:10:50.731842Z",
     "iopub.status.idle": "2021-07-16T17:10:51.144375Z",
     "shell.execute_reply": "2021-07-16T17:10:51.143814Z",
     "shell.execute_reply.started": "2021-07-16T17:09:50.311035Z"
    },
    "papermill": {
     "duration": 0.536122,
     "end_time": "2021-07-16T17:10:51.144516",
     "exception": false,
     "start_time": "2021-07-16T17:10:50.608394",
     "status": "completed"
    },
    "tags": []
   },
   "outputs": [
    {
     "data": {
      "text/plain": [
       "Text(0, 0.5, 'Authors on flipkart')"
      ]
     },
     "execution_count": 41,
     "metadata": {},
     "output_type": "execute_result"
    },
    {
     "data": {
      "image/png": "[encoded data removed]",
      "text/plain": [
       "<Figure size 1080x576 with 1 Axes>"
      ]
     },
     "metadata": {},
     "output_type": "display_data"
    }
   ],
   "source": [
    "plt.figure(figsize=(15,8))\n",
    "sns.set(style=\"darkgrid\")\n",
    "sns.barplot(x=L2,y=L1,data=flipkart_1)\n",
    "plt.xlabel(\"Count\")\n",
    "plt.ylabel(\"Authors on flipkart\")"
   ]
  },
  {
   "cell_type": "markdown",
   "id": "9aaf1936",
   "metadata": {
    "papermill": {
     "duration": 0.080481,
     "end_time": "2021-07-16T17:10:51.305344",
     "exception": false,
     "start_time": "2021-07-16T17:10:51.224863",
     "status": "completed"
    },
    "tags": []
   },
   "source": [
    "# Now lets merge both the Dataset and compare both the biggest E-commerce sites"
   ]
  },
  {
   "cell_type": "code",
   "execution_count": 42,
   "id": "7aecc7b0",
   "metadata": {
    "execution": {
     "iopub.execute_input": "2021-07-16T17:10:51.471384Z",
     "iopub.status.busy": "2021-07-16T17:10:51.470620Z",
     "iopub.status.idle": "2021-07-16T17:10:51.475847Z",
     "shell.execute_reply": "2021-07-16T17:10:51.475314Z",
     "shell.execute_reply.started": "2021-07-16T17:09:50.779712Z"
    },
    "papermill": {
     "duration": 0.092531,
     "end_time": "2021-07-16T17:10:51.475989",
     "exception": false,
     "start_time": "2021-07-16T17:10:51.383458",
     "status": "completed"
    },
    "tags": []
   },
   "outputs": [
    {
     "data": {
      "text/html": [
       "<div>\n",
       "<style scoped>\n",
       "    .dataframe tbody tr th:only-of-type {\n",
       "        vertical-align: middle;\n",
       "    }\n",
       "\n",
       "    .dataframe tbody tr th {\n",
       "        vertical-align: top;\n",
       "    }\n",
       "\n",
       "    .dataframe thead th {\n",
       "        text-align: right;\n",
       "    }\n",
       "</style>\n",
       "<table border=\"1\" class=\"dataframe\">\n",
       "  <thead>\n",
       "    <tr style=\"text-align: right;\">\n",
       "      <th></th>\n",
       "      <th>amazon_title</th>\n",
       "      <th>amazon_author</th>\n",
       "      <th>amazon_rating</th>\n",
       "      <th>amazon_reviews count</th>\n",
       "      <th>amazon_isbn-10</th>\n",
       "      <th>amazon_price</th>\n",
       "    </tr>\n",
       "  </thead>\n",
       "  <tbody>\n",
       "    <tr>\n",
       "      <th>0</th>\n",
       "      <td>Tell Me your Dreams</td>\n",
       "      <td>by Sidney Sheldon</td>\n",
       "      <td>4.4</td>\n",
       "      <td>160.0</td>\n",
       "      <td>8172234902</td>\n",
       "      <td>209</td>\n",
       "    </tr>\n",
       "  </tbody>\n",
       "</table>\n",
       "</div>"
      ],
      "text/plain": [
       "          amazon_title      amazon_author  amazon_rating  \\\n",
       "0  Tell Me your Dreams  by Sidney Sheldon            4.4   \n",
       "\n",
       "   amazon_reviews count  amazon_isbn-10  amazon_price  \n",
       "0                 160.0      8172234902           209  "
      ]
     },
     "execution_count": 42,
     "metadata": {},
     "output_type": "execute_result"
    }
   ],
   "source": [
    "amazon.head(1)"
   ]
  },
  {
   "cell_type": "code",
   "execution_count": 43,
   "id": "7fd85ecb",
   "metadata": {
    "execution": {
     "iopub.execute_input": "2021-07-16T17:10:51.643856Z",
     "iopub.status.busy": "2021-07-16T17:10:51.643330Z",
     "iopub.status.idle": "2021-07-16T17:10:51.656611Z",
     "shell.execute_reply": "2021-07-16T17:10:51.657217Z",
     "shell.execute_reply.started": "2021-07-16T17:09:50.792213Z"
    },
    "papermill": {
     "duration": 0.101682,
     "end_time": "2021-07-16T17:10:51.657397",
     "exception": false,
     "start_time": "2021-07-16T17:10:51.555715",
     "status": "completed"
    },
    "tags": []
   },
   "outputs": [
    {
     "data": {
      "text/html": [
       "<div>\n",
       "<style scoped>\n",
       "    .dataframe tbody tr th:only-of-type {\n",
       "        vertical-align: middle;\n",
       "    }\n",
       "\n",
       "    .dataframe tbody tr th {\n",
       "        vertical-align: top;\n",
       "    }\n",
       "\n",
       "    .dataframe thead th {\n",
       "        text-align: right;\n",
       "    }\n",
       "</style>\n",
       "<table border=\"1\" class=\"dataframe\">\n",
       "  <thead>\n",
       "    <tr style=\"text-align: right;\">\n",
       "      <th></th>\n",
       "      <th>flipkart_author</th>\n",
       "      <th>flipkart_isbn10</th>\n",
       "      <th>flipkart_title</th>\n",
       "      <th>flipkart_ratings count</th>\n",
       "      <th>flipkart_price</th>\n",
       "      <th>flipkart_stars</th>\n",
       "    </tr>\n",
       "  </thead>\n",
       "  <tbody>\n",
       "    <tr>\n",
       "      <th>0</th>\n",
       "      <td>Sidney Sheldon</td>\n",
       "      <td>8172234902</td>\n",
       "      <td>TELL ME YOUR DREAMS</td>\n",
       "      <td>902</td>\n",
       "      <td>209</td>\n",
       "      <td>4.5</td>\n",
       "    </tr>\n",
       "  </tbody>\n",
       "</table>\n",
       "</div>"
      ],
      "text/plain": [
       "    flipkart_author  flipkart_isbn10        flipkart_title  \\\n",
       "0    Sidney Sheldon       8172234902   TELL ME YOUR DREAMS   \n",
       "\n",
       "  flipkart_ratings count  flipkart_price  flipkart_stars  \n",
       "0                    902             209             4.5  "
      ]
     },
     "execution_count": 43,
     "metadata": {},
     "output_type": "execute_result"
    }
   ],
   "source": [
    "flipkart_1.head(1)"
   ]
  },
  {
   "cell_type": "code",
   "execution_count": 44,
   "id": "51df732c",
   "metadata": {
    "execution": {
     "iopub.execute_input": "2021-07-16T17:10:51.906251Z",
     "iopub.status.busy": "2021-07-16T17:10:51.905559Z",
     "iopub.status.idle": "2021-07-16T17:10:51.910367Z",
     "shell.execute_reply": "2021-07-16T17:10:51.910922Z",
     "shell.execute_reply.started": "2021-07-16T17:09:50.809565Z"
    },
    "papermill": {
     "duration": 0.133641,
     "end_time": "2021-07-16T17:10:51.911094",
     "exception": false,
     "start_time": "2021-07-16T17:10:51.777453",
     "status": "completed"
    },
    "tags": []
   },
   "outputs": [],
   "source": [
    "joint_data=amazon.merge(flipkart_1,left_on=\"amazon_isbn-10\",right_on='flipkart_isbn10',how='inner')"
   ]
  },
  {
   "cell_type": "code",
   "execution_count": 45,
   "id": "faded960",
   "metadata": {
    "execution": {
     "iopub.execute_input": "2021-07-16T17:10:52.166189Z",
     "iopub.status.busy": "2021-07-16T17:10:52.165415Z",
     "iopub.status.idle": "2021-07-16T17:10:52.180654Z",
     "shell.execute_reply": "2021-07-16T17:10:52.181198Z",
     "shell.execute_reply.started": "2021-07-16T17:09:50.819775Z"
    },
    "papermill": {
     "duration": 0.142944,
     "end_time": "2021-07-16T17:10:52.181446",
     "exception": false,
     "start_time": "2021-07-16T17:10:52.038502",
     "status": "completed"
    },
    "tags": []
   },
   "outputs": [
    {
     "data": {
      "text/html": [
       "<div>\n",
       "<style scoped>\n",
       "    .dataframe tbody tr th:only-of-type {\n",
       "        vertical-align: middle;\n",
       "    }\n",
       "\n",
       "    .dataframe tbody tr th {\n",
       "        vertical-align: top;\n",
       "    }\n",
       "\n",
       "    .dataframe thead th {\n",
       "        text-align: right;\n",
       "    }\n",
       "</style>\n",
       "<table border=\"1\" class=\"dataframe\">\n",
       "  <thead>\n",
       "    <tr style=\"text-align: right;\">\n",
       "      <th></th>\n",
       "      <th>amazon_title</th>\n",
       "      <th>amazon_author</th>\n",
       "      <th>amazon_rating</th>\n",
       "      <th>amazon_reviews count</th>\n",
       "      <th>amazon_isbn-10</th>\n",
       "      <th>amazon_price</th>\n",
       "      <th>flipkart_author</th>\n",
       "      <th>flipkart_isbn10</th>\n",
       "      <th>flipkart_title</th>\n",
       "      <th>flipkart_ratings count</th>\n",
       "      <th>flipkart_price</th>\n",
       "      <th>flipkart_stars</th>\n",
       "    </tr>\n",
       "  </thead>\n",
       "  <tbody>\n",
       "    <tr>\n",
       "      <th>0</th>\n",
       "      <td>Tell Me your Dreams</td>\n",
       "      <td>by Sidney Sheldon</td>\n",
       "      <td>4.4</td>\n",
       "      <td>160.0</td>\n",
       "      <td>8172234902</td>\n",
       "      <td>209</td>\n",
       "      <td>Sidney Sheldon</td>\n",
       "      <td>8172234902</td>\n",
       "      <td>TELL ME YOUR DREAMS</td>\n",
       "      <td>902</td>\n",
       "      <td>209</td>\n",
       "      <td>4.5</td>\n",
       "    </tr>\n",
       "    <tr>\n",
       "      <th>1</th>\n",
       "      <td>Tell Me your Dreams</td>\n",
       "      <td>by Sidney Sheldon</td>\n",
       "      <td>4.4</td>\n",
       "      <td>160.0</td>\n",
       "      <td>8172234902</td>\n",
       "      <td>209</td>\n",
       "      <td>Sidney Sheldon</td>\n",
       "      <td>8172234902</td>\n",
       "      <td>TELL ME YOUR DREAMS</td>\n",
       "      <td>902</td>\n",
       "      <td>209</td>\n",
       "      <td>4.5</td>\n",
       "    </tr>\n",
       "    <tr>\n",
       "      <th>2</th>\n",
       "      <td>Tell Me your Dreams</td>\n",
       "      <td>by Sidney Sheldon</td>\n",
       "      <td>4.4</td>\n",
       "      <td>160.0</td>\n",
       "      <td>8172234902</td>\n",
       "      <td>209</td>\n",
       "      <td>Sidney Sheldon</td>\n",
       "      <td>8172234902</td>\n",
       "      <td>TELL ME YOUR DREAMS</td>\n",
       "      <td>902</td>\n",
       "      <td>209</td>\n",
       "      <td>4.5</td>\n",
       "    </tr>\n",
       "    <tr>\n",
       "      <th>3</th>\n",
       "      <td>Tell Me your Dreams</td>\n",
       "      <td>by Sidney Sheldon</td>\n",
       "      <td>4.4</td>\n",
       "      <td>160.0</td>\n",
       "      <td>8172234902</td>\n",
       "      <td>209</td>\n",
       "      <td>Sidney Sheldon</td>\n",
       "      <td>8172234902</td>\n",
       "      <td>TELL ME YOUR DREAMS</td>\n",
       "      <td>902</td>\n",
       "      <td>209</td>\n",
       "      <td>4.5</td>\n",
       "    </tr>\n",
       "    <tr>\n",
       "      <th>4</th>\n",
       "      <td>Tell Me your Dreams</td>\n",
       "      <td>by Sidney Sheldon</td>\n",
       "      <td>4.4</td>\n",
       "      <td>160.0</td>\n",
       "      <td>8172234902</td>\n",
       "      <td>209</td>\n",
       "      <td>Sidney Sheldon</td>\n",
       "      <td>8172234902</td>\n",
       "      <td>TELL ME YOUR DREAMS</td>\n",
       "      <td>902</td>\n",
       "      <td>209</td>\n",
       "      <td>4.5</td>\n",
       "    </tr>\n",
       "  </tbody>\n",
       "</table>\n",
       "</div>"
      ],
      "text/plain": [
       "          amazon_title      amazon_author  amazon_rating  \\\n",
       "0  Tell Me your Dreams  by Sidney Sheldon            4.4   \n",
       "1  Tell Me your Dreams  by Sidney Sheldon            4.4   \n",
       "2  Tell Me your Dreams  by Sidney Sheldon            4.4   \n",
       "3  Tell Me your Dreams  by Sidney Sheldon            4.4   \n",
       "4  Tell Me your Dreams  by Sidney Sheldon            4.4   \n",
       "\n",
       "   amazon_reviews count  amazon_isbn-10  amazon_price   flipkart_author  \\\n",
       "0                 160.0      8172234902           209    Sidney Sheldon   \n",
       "1                 160.0      8172234902           209    Sidney Sheldon   \n",
       "2                 160.0      8172234902           209    Sidney Sheldon   \n",
       "3                 160.0      8172234902           209    Sidney Sheldon   \n",
       "4                 160.0      8172234902           209    Sidney Sheldon   \n",
       "\n",
       "   flipkart_isbn10        flipkart_title flipkart_ratings count  \\\n",
       "0       8172234902   TELL ME YOUR DREAMS                    902   \n",
       "1       8172234902   TELL ME YOUR DREAMS                    902   \n",
       "2       8172234902   TELL ME YOUR DREAMS                    902   \n",
       "3       8172234902   TELL ME YOUR DREAMS                    902   \n",
       "4       8172234902   TELL ME YOUR DREAMS                    902   \n",
       "\n",
       "   flipkart_price  flipkart_stars  \n",
       "0             209             4.5  \n",
       "1             209             4.5  \n",
       "2             209             4.5  \n",
       "3             209             4.5  \n",
       "4             209             4.5  "
      ]
     },
     "execution_count": 45,
     "metadata": {},
     "output_type": "execute_result"
    }
   ],
   "source": [
    "joint_data.head()"
   ]
  },
  {
   "cell_type": "markdown",
   "id": "9779b7df",
   "metadata": {
    "papermill": {
     "duration": 0.11726,
     "end_time": "2021-07-16T17:10:52.418099",
     "exception": false,
     "start_time": "2021-07-16T17:10:52.300839",
     "status": "completed"
    },
    "tags": []
   },
   "source": [
    "# Lets Delete the duplicate records"
   ]
  },
  {
   "cell_type": "code",
   "execution_count": 46,
   "id": "23351083",
   "metadata": {
    "execution": {
     "iopub.execute_input": "2021-07-16T17:10:52.655875Z",
     "iopub.status.busy": "2021-07-16T17:10:52.655263Z",
     "iopub.status.idle": "2021-07-16T17:10:52.683584Z",
     "shell.execute_reply": "2021-07-16T17:10:52.684338Z",
     "shell.execute_reply.started": "2021-07-16T17:09:50.847126Z"
    },
    "papermill": {
     "duration": 0.148391,
     "end_time": "2021-07-16T17:10:52.684507",
     "exception": false,
     "start_time": "2021-07-16T17:10:52.536116",
     "status": "completed"
    },
    "tags": []
   },
   "outputs": [
    {
     "data": {
      "text/html": [
       "<div>\n",
       "<style scoped>\n",
       "    .dataframe tbody tr th:only-of-type {\n",
       "        vertical-align: middle;\n",
       "    }\n",
       "\n",
       "    .dataframe tbody tr th {\n",
       "        vertical-align: top;\n",
       "    }\n",
       "\n",
       "    .dataframe thead th {\n",
       "        text-align: right;\n",
       "    }\n",
       "</style>\n",
       "<table border=\"1\" class=\"dataframe\">\n",
       "  <thead>\n",
       "    <tr style=\"text-align: right;\">\n",
       "      <th></th>\n",
       "      <th>amazon_title</th>\n",
       "      <th>amazon_author</th>\n",
       "      <th>amazon_rating</th>\n",
       "      <th>amazon_reviews count</th>\n",
       "      <th>amazon_isbn-10</th>\n",
       "      <th>amazon_price</th>\n",
       "      <th>flipkart_author</th>\n",
       "      <th>flipkart_isbn10</th>\n",
       "      <th>flipkart_title</th>\n",
       "      <th>flipkart_ratings count</th>\n",
       "      <th>flipkart_price</th>\n",
       "      <th>flipkart_stars</th>\n",
       "    </tr>\n",
       "  </thead>\n",
       "  <tbody>\n",
       "    <tr>\n",
       "      <th>0</th>\n",
       "      <td>Tell Me your Dreams</td>\n",
       "      <td>by Sidney Sheldon</td>\n",
       "      <td>4.4</td>\n",
       "      <td>160.0</td>\n",
       "      <td>8172234902</td>\n",
       "      <td>209</td>\n",
       "      <td>Sidney Sheldon</td>\n",
       "      <td>8172234902</td>\n",
       "      <td>TELL ME YOUR DREAMS</td>\n",
       "      <td>902</td>\n",
       "      <td>209</td>\n",
       "      <td>4.5</td>\n",
       "    </tr>\n",
       "    <tr>\n",
       "      <th>36</th>\n",
       "      <td>Romancing the Balance Sheet: For Anyone Who Ow...</td>\n",
       "      <td>by Anil Lamba</td>\n",
       "      <td>4.5</td>\n",
       "      <td>156.0</td>\n",
       "      <td>9350294311</td>\n",
       "      <td>477</td>\n",
       "      <td>Anil Lamba</td>\n",
       "      <td>9350294311</td>\n",
       "      <td>ROMANCING THE BALANCE SHEET</td>\n",
       "      <td>352</td>\n",
       "      <td>477</td>\n",
       "      <td>4.5</td>\n",
       "    </tr>\n",
       "    <tr>\n",
       "      <th>45</th>\n",
       "      <td>Mossad</td>\n",
       "      <td>by Michael Bar-Zohar - Import</td>\n",
       "      <td>4.6</td>\n",
       "      <td>637.0</td>\n",
       "      <td>8184958455</td>\n",
       "      <td>340</td>\n",
       "      <td>Bar-Zohar Michael</td>\n",
       "      <td>8184958455</td>\n",
       "      <td>Mossad</td>\n",
       "      <td>560</td>\n",
       "      <td>280</td>\n",
       "      <td>4.5</td>\n",
       "    </tr>\n",
       "    <tr>\n",
       "      <th>94</th>\n",
       "      <td>My Story</td>\n",
       "      <td>by Kamala Das</td>\n",
       "      <td>4.5</td>\n",
       "      <td>42.0</td>\n",
       "      <td>8172238975</td>\n",
       "      <td>178</td>\n",
       "      <td>Kamala Das</td>\n",
       "      <td>8172238975</td>\n",
       "      <td>MY STORY</td>\n",
       "      <td>322</td>\n",
       "      <td>178</td>\n",
       "      <td>4.3</td>\n",
       "    </tr>\n",
       "    <tr>\n",
       "      <th>110</th>\n",
       "      <td>Inspiring Thoughts (Inspiring Thoughts Quotati...</td>\n",
       "      <td>by A.P.J. Abdul Kalam</td>\n",
       "      <td>4.1</td>\n",
       "      <td>148.0</td>\n",
       "      <td>8170286840</td>\n",
       "      <td>120</td>\n",
       "      <td>Abdul Kalam A. P. J.</td>\n",
       "      <td>8170286840</td>\n",
       "      <td>Inspiring Thoughts</td>\n",
       "      <td>357</td>\n",
       "      <td>149</td>\n",
       "      <td>4.2</td>\n",
       "    </tr>\n",
       "    <tr>\n",
       "      <th>...</th>\n",
       "      <td>...</td>\n",
       "      <td>...</td>\n",
       "      <td>...</td>\n",
       "      <td>...</td>\n",
       "      <td>...</td>\n",
       "      <td>...</td>\n",
       "      <td>...</td>\n",
       "      <td>...</td>\n",
       "      <td>...</td>\n",
       "      <td>...</td>\n",
       "      <td>...</td>\n",
       "      <td>...</td>\n",
       "    </tr>\n",
       "    <tr>\n",
       "      <th>4178</th>\n",
       "      <td>The Secret to Teen Power</td>\n",
       "      <td>by Paul Harrington</td>\n",
       "      <td>4.8</td>\n",
       "      <td>48.0</td>\n",
       "      <td>1847386938</td>\n",
       "      <td>492</td>\n",
       "      <td>Harrington Paul</td>\n",
       "      <td>1847386938</td>\n",
       "      <td>The Secret to Teen Power</td>\n",
       "      <td>207</td>\n",
       "      <td>373</td>\n",
       "      <td>4.5</td>\n",
       "    </tr>\n",
       "    <tr>\n",
       "      <th>4179</th>\n",
       "      <td>Harry Potter and the Deathly Hallows (Harry Po...</td>\n",
       "      <td>by J.K. Rowling</td>\n",
       "      <td>4.6</td>\n",
       "      <td>352.0</td>\n",
       "      <td>1408855712</td>\n",
       "      <td>666</td>\n",
       "      <td>J. K. Rowling</td>\n",
       "      <td>1408855712</td>\n",
       "      <td>Harry Potter and the Deathly Hallows</td>\n",
       "      <td>2083</td>\n",
       "      <td>452</td>\n",
       "      <td>4.7</td>\n",
       "    </tr>\n",
       "    <tr>\n",
       "      <th>4180</th>\n",
       "      <td>Sita's Ramayana</td>\n",
       "      <td>by Samhita Arni</td>\n",
       "      <td>3.6</td>\n",
       "      <td>5.0</td>\n",
       "      <td>9380340036</td>\n",
       "      <td>542</td>\n",
       "      <td>Arni Samhita</td>\n",
       "      <td>9380340036</td>\n",
       "      <td>Sita's Ramayana</td>\n",
       "      <td>19</td>\n",
       "      <td>550</td>\n",
       "      <td>4.1</td>\n",
       "    </tr>\n",
       "    <tr>\n",
       "      <th>4181</th>\n",
       "      <td>The Maze Runner #02 Scorch Trials Movie Tie-in</td>\n",
       "      <td>by James Dashner</td>\n",
       "      <td>3.9</td>\n",
       "      <td>56.0</td>\n",
       "      <td>9351039684</td>\n",
       "      <td>247</td>\n",
       "      <td>James Dashner</td>\n",
       "      <td>9351039684</td>\n",
       "      <td>The Scorch Trials</td>\n",
       "      <td>180</td>\n",
       "      <td>234</td>\n",
       "      <td>4.6</td>\n",
       "    </tr>\n",
       "    <tr>\n",
       "      <th>4182</th>\n",
       "      <td>Tom Gates #10: Super Good Skills (Almost . . .)</td>\n",
       "      <td>by NILL</td>\n",
       "      <td>4.4</td>\n",
       "      <td>24.0</td>\n",
       "      <td>9386041901</td>\n",
       "      <td>213</td>\n",
       "      <td>unknown</td>\n",
       "      <td>9386041901</td>\n",
       "      <td>Tom Gates #10</td>\n",
       "      <td>94</td>\n",
       "      <td>237</td>\n",
       "      <td>4.6</td>\n",
       "    </tr>\n",
       "  </tbody>\n",
       "</table>\n",
       "<p>682 rows × 12 columns</p>\n",
       "</div>"
      ],
      "text/plain": [
       "                                           amazon_title  \\\n",
       "0                                   Tell Me your Dreams   \n",
       "36    Romancing the Balance Sheet: For Anyone Who Ow...   \n",
       "45                                               Mossad   \n",
       "94                                             My Story   \n",
       "110   Inspiring Thoughts (Inspiring Thoughts Quotati...   \n",
       "...                                                 ...   \n",
       "4178                           The Secret to Teen Power   \n",
       "4179  Harry Potter and the Deathly Hallows (Harry Po...   \n",
       "4180                                    Sita's Ramayana   \n",
       "4181     The Maze Runner #02 Scorch Trials Movie Tie-in   \n",
       "4182    Tom Gates #10: Super Good Skills (Almost . . .)   \n",
       "\n",
       "                      amazon_author  amazon_rating  amazon_reviews count  \\\n",
       "0                 by Sidney Sheldon            4.4                 160.0   \n",
       "36                    by Anil Lamba            4.5                 156.0   \n",
       "45    by Michael Bar-Zohar - Import            4.6                 637.0   \n",
       "94                    by Kamala Das            4.5                  42.0   \n",
       "110           by A.P.J. Abdul Kalam            4.1                 148.0   \n",
       "...                             ...            ...                   ...   \n",
       "4178             by Paul Harrington            4.8                  48.0   \n",
       "4179                by J.K. Rowling            4.6                 352.0   \n",
       "4180                by Samhita Arni            3.6                   5.0   \n",
       "4181               by James Dashner            3.9                  56.0   \n",
       "4182                        by NILL            4.4                  24.0   \n",
       "\n",
       "      amazon_isbn-10  amazon_price         flipkart_author  flipkart_isbn10  \\\n",
       "0         8172234902           209          Sidney Sheldon       8172234902   \n",
       "36        9350294311           477              Anil Lamba       9350294311   \n",
       "45        8184958455           340       Bar-Zohar Michael       8184958455   \n",
       "94        8172238975           178              Kamala Das       8172238975   \n",
       "110       8170286840           120    Abdul Kalam A. P. J.       8170286840   \n",
       "...              ...           ...                     ...              ...   \n",
       "4178      1847386938           492         Harrington Paul       1847386938   \n",
       "4179      1408855712           666           J. K. Rowling       1408855712   \n",
       "4180      9380340036           542            Arni Samhita       9380340036   \n",
       "4181      9351039684           247           James Dashner       9351039684   \n",
       "4182      9386041901           213                 unknown       9386041901   \n",
       "\n",
       "                             flipkart_title flipkart_ratings count  \\\n",
       "0                       TELL ME YOUR DREAMS                    902   \n",
       "36              ROMANCING THE BALANCE SHEET                    352   \n",
       "45                                   Mossad                    560   \n",
       "94                                 MY STORY                    322   \n",
       "110                      Inspiring Thoughts                    357   \n",
       "...                                     ...                    ...   \n",
       "4178               The Secret to Teen Power                    207   \n",
       "4179   Harry Potter and the Deathly Hallows                   2083   \n",
       "4180                        Sita's Ramayana                     19   \n",
       "4181                      The Scorch Trials                    180   \n",
       "4182                          Tom Gates #10                     94   \n",
       "\n",
       "      flipkart_price  flipkart_stars  \n",
       "0                209             4.5  \n",
       "36               477             4.5  \n",
       "45               280             4.5  \n",
       "94               178             4.3  \n",
       "110              149             4.2  \n",
       "...              ...             ...  \n",
       "4178             373             4.5  \n",
       "4179             452             4.7  \n",
       "4180             550             4.1  \n",
       "4181             234             4.6  \n",
       "4182             237             4.6  \n",
       "\n",
       "[682 rows x 12 columns]"
      ]
     },
     "execution_count": 46,
     "metadata": {},
     "output_type": "execute_result"
    }
   ],
   "source": [
    "joint_data_1=joint_data.drop_duplicates()\n",
    "joint_data_1"
   ]
  },
  {
   "cell_type": "code",
   "execution_count": 47,
   "id": "8b7267d2",
   "metadata": {
    "execution": {
     "iopub.execute_input": "2021-07-16T17:10:52.928641Z",
     "iopub.status.busy": "2021-07-16T17:10:52.927985Z",
     "iopub.status.idle": "2021-07-16T17:10:52.932551Z",
     "shell.execute_reply": "2021-07-16T17:10:52.933055Z",
     "shell.execute_reply.started": "2021-07-16T17:09:50.880484Z"
    },
    "papermill": {
     "duration": 0.126154,
     "end_time": "2021-07-16T17:10:52.933232",
     "exception": false,
     "start_time": "2021-07-16T17:10:52.807078",
     "status": "completed"
    },
    "tags": []
   },
   "outputs": [
    {
     "data": {
      "text/plain": [
       "(682, 12)"
      ]
     },
     "execution_count": 47,
     "metadata": {},
     "output_type": "execute_result"
    }
   ],
   "source": [
    "joint_data_1.shape"
   ]
  },
  {
   "cell_type": "markdown",
   "id": "a156ebb9",
   "metadata": {
    "papermill": {
     "duration": 0.121989,
     "end_time": "2021-07-16T17:10:53.175621",
     "exception": false,
     "start_time": "2021-07-16T17:10:53.053632",
     "status": "completed"
    },
    "tags": []
   },
   "source": [
    "# lets check percentage of null values"
   ]
  },
  {
   "cell_type": "code",
   "execution_count": 48,
   "id": "638d84f4",
   "metadata": {
    "execution": {
     "iopub.execute_input": "2021-07-16T17:10:53.422777Z",
     "iopub.status.busy": "2021-07-16T17:10:53.422023Z",
     "iopub.status.idle": "2021-07-16T17:10:53.430387Z",
     "shell.execute_reply": "2021-07-16T17:10:53.430948Z",
     "shell.execute_reply.started": "2021-07-16T17:09:50.886804Z"
    },
    "papermill": {
     "duration": 0.135668,
     "end_time": "2021-07-16T17:10:53.431158",
     "exception": false,
     "start_time": "2021-07-16T17:10:53.295490",
     "status": "completed"
    },
    "tags": []
   },
   "outputs": [
    {
     "data": {
      "text/plain": [
       "amazon_title              0.000000\n",
       "amazon_author             0.000000\n",
       "amazon_rating             6.451613\n",
       "amazon_reviews count      0.000000\n",
       "amazon_isbn-10            0.000000\n",
       "amazon_price              0.000000\n",
       "flipkart_author           0.000000\n",
       "flipkart_isbn10           0.000000\n",
       "flipkart_title            0.000000\n",
       "flipkart_ratings count    0.000000\n",
       "flipkart_price            0.000000\n",
       "flipkart_stars            0.000000\n",
       "dtype: float64"
      ]
     },
     "execution_count": 48,
     "metadata": {},
     "output_type": "execute_result"
    }
   ],
   "source": [
    "(joint_data_1.isnull().sum()/joint_data_1.shape[0])*100"
   ]
  },
  {
   "cell_type": "code",
   "execution_count": 49,
   "id": "61111a06",
   "metadata": {
    "execution": {
     "iopub.execute_input": "2021-07-16T17:10:53.682671Z",
     "iopub.status.busy": "2021-07-16T17:10:53.681982Z",
     "iopub.status.idle": "2021-07-16T17:10:53.900451Z",
     "shell.execute_reply": "2021-07-16T17:10:53.900795Z",
     "shell.execute_reply.started": "2021-07-16T17:09:50.903618Z"
    },
    "papermill": {
     "duration": 0.345389,
     "end_time": "2021-07-16T17:10:53.900960",
     "exception": false,
     "start_time": "2021-07-16T17:10:53.555571",
     "status": "completed"
    },
    "tags": []
   },
   "outputs": [
    {
     "data": {
      "text/plain": [
       "<AxesSubplot:>"
      ]
     },
     "execution_count": 49,
     "metadata": {},
     "output_type": "execute_result"
    },
    {
     "data": {
      "image/png": "[encoded data removed]",
      "text/plain": [
       "<Figure size 1080x576 with 1 Axes>"
      ]
     },
     "metadata": {},
     "output_type": "display_data"
    }
   ],
   "source": [
    "plt.figure(figsize=(15,8))\n",
    "sns.heatmap(joint_data_1.isnull(),cbar=False,yticklabels=False)"
   ]
  },
  {
   "cell_type": "markdown",
   "id": "922cbb3e",
   "metadata": {
    "papermill": {
     "duration": 0.084186,
     "end_time": "2021-07-16T17:10:54.066662",
     "exception": false,
     "start_time": "2021-07-16T17:10:53.982476",
     "status": "completed"
    },
    "tags": []
   },
   "source": [
    "# 6.5% is not negligible"
   ]
  },
  {
   "cell_type": "markdown",
   "id": "e562c6bc",
   "metadata": {
    "papermill": {
     "duration": 0.082672,
     "end_time": "2021-07-16T17:10:54.232664",
     "exception": false,
     "start_time": "2021-07-16T17:10:54.149992",
     "status": "completed"
    },
    "tags": []
   },
   "source": [
    "# Lets clean our Dataset"
   ]
  },
  {
   "cell_type": "code",
   "execution_count": 50,
   "id": "521ef33e",
   "metadata": {
    "execution": {
     "iopub.execute_input": "2021-07-16T17:10:54.402478Z",
     "iopub.status.busy": "2021-07-16T17:10:54.398670Z",
     "iopub.status.idle": "2021-07-16T17:10:54.408850Z",
     "shell.execute_reply": "2021-07-16T17:10:54.409266Z",
     "shell.execute_reply.started": "2021-07-16T17:09:51.205350Z"
    },
    "papermill": {
     "duration": 0.094906,
     "end_time": "2021-07-16T17:10:54.409431",
     "exception": false,
     "start_time": "2021-07-16T17:10:54.314525",
     "status": "completed"
    },
    "tags": []
   },
   "outputs": [],
   "source": [
    "joint_data_2=joint_data_1.dropna(axis=0)"
   ]
  },
  {
   "cell_type": "markdown",
   "id": "6953032a",
   "metadata": {
    "papermill": {
     "duration": 0.083677,
     "end_time": "2021-07-16T17:10:54.579419",
     "exception": false,
     "start_time": "2021-07-16T17:10:54.495742",
     "status": "completed"
    },
    "tags": []
   },
   "source": [
    "# lets check percentage of null values"
   ]
  },
  {
   "cell_type": "code",
   "execution_count": 51,
   "id": "c8771b38",
   "metadata": {
    "execution": {
     "iopub.execute_input": "2021-07-16T17:10:54.754948Z",
     "iopub.status.busy": "2021-07-16T17:10:54.754314Z",
     "iopub.status.idle": "2021-07-16T17:10:54.759100Z",
     "shell.execute_reply": "2021-07-16T17:10:54.758587Z",
     "shell.execute_reply.started": "2021-07-16T17:09:51.216321Z"
    },
    "papermill": {
     "duration": 0.097142,
     "end_time": "2021-07-16T17:10:54.759222",
     "exception": false,
     "start_time": "2021-07-16T17:10:54.662080",
     "status": "completed"
    },
    "tags": []
   },
   "outputs": [
    {
     "data": {
      "text/plain": [
       "amazon_title              0.0\n",
       "amazon_author             0.0\n",
       "amazon_rating             0.0\n",
       "amazon_reviews count      0.0\n",
       "amazon_isbn-10            0.0\n",
       "amazon_price              0.0\n",
       "flipkart_author           0.0\n",
       "flipkart_isbn10           0.0\n",
       "flipkart_title            0.0\n",
       "flipkart_ratings count    0.0\n",
       "flipkart_price            0.0\n",
       "flipkart_stars            0.0\n",
       "dtype: float64"
      ]
     },
     "execution_count": 51,
     "metadata": {},
     "output_type": "execute_result"
    }
   ],
   "source": [
    "(joint_data_2.isnull().sum()/joint_data_1.shape[0])*100"
   ]
  },
  {
   "cell_type": "code",
   "execution_count": 52,
   "id": "8643926b",
   "metadata": {
    "execution": {
     "iopub.execute_input": "2021-07-16T17:10:54.955038Z",
     "iopub.status.busy": "2021-07-16T17:10:54.951997Z",
     "iopub.status.idle": "2021-07-16T17:10:55.166076Z",
     "shell.execute_reply": "2021-07-16T17:10:55.166545Z",
     "shell.execute_reply.started": "2021-07-16T17:09:51.237065Z"
    },
    "papermill": {
     "duration": 0.325201,
     "end_time": "2021-07-16T17:10:55.166690",
     "exception": false,
     "start_time": "2021-07-16T17:10:54.841489",
     "status": "completed"
    },
    "tags": []
   },
   "outputs": [
    {
     "data": {
      "text/plain": [
       "<AxesSubplot:>"
      ]
     },
     "execution_count": 52,
     "metadata": {},
     "output_type": "execute_result"
    },
    {
     "data": {
      "image/png": "[encoded data removed]",
      "text/plain": [
       "<Figure size 1080x576 with 1 Axes>"
      ]
     },
     "metadata": {},
     "output_type": "display_data"
    }
   ],
   "source": [
    "plt.figure(figsize=(15,8))\n",
    "sns.heatmap(joint_data_2.isnull(),cbar=False,yticklabels=False)"
   ]
  },
  {
   "cell_type": "code",
   "execution_count": 53,
   "id": "8bea30e8",
   "metadata": {
    "execution": {
     "iopub.execute_input": "2021-07-16T17:10:55.344065Z",
     "iopub.status.busy": "2021-07-16T17:10:55.343534Z",
     "iopub.status.idle": "2021-07-16T17:10:55.366547Z",
     "shell.execute_reply": "2021-07-16T17:10:55.366013Z",
     "shell.execute_reply.started": "2021-07-16T17:09:51.521202Z"
    },
    "papermill": {
     "duration": 0.112158,
     "end_time": "2021-07-16T17:10:55.366683",
     "exception": false,
     "start_time": "2021-07-16T17:10:55.254525",
     "status": "completed"
    },
    "tags": []
   },
   "outputs": [
    {
     "data": {
      "text/html": [
       "<div>\n",
       "<style scoped>\n",
       "    .dataframe tbody tr th:only-of-type {\n",
       "        vertical-align: middle;\n",
       "    }\n",
       "\n",
       "    .dataframe tbody tr th {\n",
       "        vertical-align: top;\n",
       "    }\n",
       "\n",
       "    .dataframe thead th {\n",
       "        text-align: right;\n",
       "    }\n",
       "</style>\n",
       "<table border=\"1\" class=\"dataframe\">\n",
       "  <thead>\n",
       "    <tr style=\"text-align: right;\">\n",
       "      <th></th>\n",
       "      <th>amazon_title</th>\n",
       "      <th>amazon_author</th>\n",
       "      <th>amazon_rating</th>\n",
       "      <th>amazon_reviews count</th>\n",
       "      <th>amazon_isbn-10</th>\n",
       "      <th>amazon_price</th>\n",
       "      <th>flipkart_author</th>\n",
       "      <th>flipkart_isbn10</th>\n",
       "      <th>flipkart_title</th>\n",
       "      <th>flipkart_ratings count</th>\n",
       "      <th>flipkart_price</th>\n",
       "      <th>flipkart_stars</th>\n",
       "    </tr>\n",
       "  </thead>\n",
       "  <tbody>\n",
       "    <tr>\n",
       "      <th>0</th>\n",
       "      <td>Tell Me your Dreams</td>\n",
       "      <td>by Sidney Sheldon</td>\n",
       "      <td>4.4</td>\n",
       "      <td>160.0</td>\n",
       "      <td>8172234902</td>\n",
       "      <td>209</td>\n",
       "      <td>Sidney Sheldon</td>\n",
       "      <td>8172234902</td>\n",
       "      <td>TELL ME YOUR DREAMS</td>\n",
       "      <td>902</td>\n",
       "      <td>209</td>\n",
       "      <td>4.5</td>\n",
       "    </tr>\n",
       "    <tr>\n",
       "      <th>36</th>\n",
       "      <td>Romancing the Balance Sheet: For Anyone Who Ow...</td>\n",
       "      <td>by Anil Lamba</td>\n",
       "      <td>4.5</td>\n",
       "      <td>156.0</td>\n",
       "      <td>9350294311</td>\n",
       "      <td>477</td>\n",
       "      <td>Anil Lamba</td>\n",
       "      <td>9350294311</td>\n",
       "      <td>ROMANCING THE BALANCE SHEET</td>\n",
       "      <td>352</td>\n",
       "      <td>477</td>\n",
       "      <td>4.5</td>\n",
       "    </tr>\n",
       "    <tr>\n",
       "      <th>45</th>\n",
       "      <td>Mossad</td>\n",
       "      <td>by Michael Bar-Zohar - Import</td>\n",
       "      <td>4.6</td>\n",
       "      <td>637.0</td>\n",
       "      <td>8184958455</td>\n",
       "      <td>340</td>\n",
       "      <td>Bar-Zohar Michael</td>\n",
       "      <td>8184958455</td>\n",
       "      <td>Mossad</td>\n",
       "      <td>560</td>\n",
       "      <td>280</td>\n",
       "      <td>4.5</td>\n",
       "    </tr>\n",
       "    <tr>\n",
       "      <th>94</th>\n",
       "      <td>My Story</td>\n",
       "      <td>by Kamala Das</td>\n",
       "      <td>4.5</td>\n",
       "      <td>42.0</td>\n",
       "      <td>8172238975</td>\n",
       "      <td>178</td>\n",
       "      <td>Kamala Das</td>\n",
       "      <td>8172238975</td>\n",
       "      <td>MY STORY</td>\n",
       "      <td>322</td>\n",
       "      <td>178</td>\n",
       "      <td>4.3</td>\n",
       "    </tr>\n",
       "    <tr>\n",
       "      <th>110</th>\n",
       "      <td>Inspiring Thoughts (Inspiring Thoughts Quotati...</td>\n",
       "      <td>by A.P.J. Abdul Kalam</td>\n",
       "      <td>4.1</td>\n",
       "      <td>148.0</td>\n",
       "      <td>8170286840</td>\n",
       "      <td>120</td>\n",
       "      <td>Abdul Kalam A. P. J.</td>\n",
       "      <td>8170286840</td>\n",
       "      <td>Inspiring Thoughts</td>\n",
       "      <td>357</td>\n",
       "      <td>149</td>\n",
       "      <td>4.2</td>\n",
       "    </tr>\n",
       "    <tr>\n",
       "      <th>...</th>\n",
       "      <td>...</td>\n",
       "      <td>...</td>\n",
       "      <td>...</td>\n",
       "      <td>...</td>\n",
       "      <td>...</td>\n",
       "      <td>...</td>\n",
       "      <td>...</td>\n",
       "      <td>...</td>\n",
       "      <td>...</td>\n",
       "      <td>...</td>\n",
       "      <td>...</td>\n",
       "      <td>...</td>\n",
       "    </tr>\n",
       "    <tr>\n",
       "      <th>4178</th>\n",
       "      <td>The Secret to Teen Power</td>\n",
       "      <td>by Paul Harrington</td>\n",
       "      <td>4.8</td>\n",
       "      <td>48.0</td>\n",
       "      <td>1847386938</td>\n",
       "      <td>492</td>\n",
       "      <td>Harrington Paul</td>\n",
       "      <td>1847386938</td>\n",
       "      <td>The Secret to Teen Power</td>\n",
       "      <td>207</td>\n",
       "      <td>373</td>\n",
       "      <td>4.5</td>\n",
       "    </tr>\n",
       "    <tr>\n",
       "      <th>4179</th>\n",
       "      <td>Harry Potter and the Deathly Hallows (Harry Po...</td>\n",
       "      <td>by J.K. Rowling</td>\n",
       "      <td>4.6</td>\n",
       "      <td>352.0</td>\n",
       "      <td>1408855712</td>\n",
       "      <td>666</td>\n",
       "      <td>J. K. Rowling</td>\n",
       "      <td>1408855712</td>\n",
       "      <td>Harry Potter and the Deathly Hallows</td>\n",
       "      <td>2083</td>\n",
       "      <td>452</td>\n",
       "      <td>4.7</td>\n",
       "    </tr>\n",
       "    <tr>\n",
       "      <th>4180</th>\n",
       "      <td>Sita's Ramayana</td>\n",
       "      <td>by Samhita Arni</td>\n",
       "      <td>3.6</td>\n",
       "      <td>5.0</td>\n",
       "      <td>9380340036</td>\n",
       "      <td>542</td>\n",
       "      <td>Arni Samhita</td>\n",
       "      <td>9380340036</td>\n",
       "      <td>Sita's Ramayana</td>\n",
       "      <td>19</td>\n",
       "      <td>550</td>\n",
       "      <td>4.1</td>\n",
       "    </tr>\n",
       "    <tr>\n",
       "      <th>4181</th>\n",
       "      <td>The Maze Runner #02 Scorch Trials Movie Tie-in</td>\n",
       "      <td>by James Dashner</td>\n",
       "      <td>3.9</td>\n",
       "      <td>56.0</td>\n",
       "      <td>9351039684</td>\n",
       "      <td>247</td>\n",
       "      <td>James Dashner</td>\n",
       "      <td>9351039684</td>\n",
       "      <td>The Scorch Trials</td>\n",
       "      <td>180</td>\n",
       "      <td>234</td>\n",
       "      <td>4.6</td>\n",
       "    </tr>\n",
       "    <tr>\n",
       "      <th>4182</th>\n",
       "      <td>Tom Gates #10: Super Good Skills (Almost . . .)</td>\n",
       "      <td>by NILL</td>\n",
       "      <td>4.4</td>\n",
       "      <td>24.0</td>\n",
       "      <td>9386041901</td>\n",
       "      <td>213</td>\n",
       "      <td>unknown</td>\n",
       "      <td>9386041901</td>\n",
       "      <td>Tom Gates #10</td>\n",
       "      <td>94</td>\n",
       "      <td>237</td>\n",
       "      <td>4.6</td>\n",
       "    </tr>\n",
       "  </tbody>\n",
       "</table>\n",
       "<p>638 rows × 12 columns</p>\n",
       "</div>"
      ],
      "text/plain": [
       "                                           amazon_title  \\\n",
       "0                                   Tell Me your Dreams   \n",
       "36    Romancing the Balance Sheet: For Anyone Who Ow...   \n",
       "45                                               Mossad   \n",
       "94                                             My Story   \n",
       "110   Inspiring Thoughts (Inspiring Thoughts Quotati...   \n",
       "...                                                 ...   \n",
       "4178                           The Secret to Teen Power   \n",
       "4179  Harry Potter and the Deathly Hallows (Harry Po...   \n",
       "4180                                    Sita's Ramayana   \n",
       "4181     The Maze Runner #02 Scorch Trials Movie Tie-in   \n",
       "4182    Tom Gates #10: Super Good Skills (Almost . . .)   \n",
       "\n",
       "                      amazon_author  amazon_rating  amazon_reviews count  \\\n",
       "0                 by Sidney Sheldon            4.4                 160.0   \n",
       "36                    by Anil Lamba            4.5                 156.0   \n",
       "45    by Michael Bar-Zohar - Import            4.6                 637.0   \n",
       "94                    by Kamala Das            4.5                  42.0   \n",
       "110           by A.P.J. Abdul Kalam            4.1                 148.0   \n",
       "...                             ...            ...                   ...   \n",
       "4178             by Paul Harrington            4.8                  48.0   \n",
       "4179                by J.K. Rowling            4.6                 352.0   \n",
       "4180                by Samhita Arni            3.6                   5.0   \n",
       "4181               by James Dashner            3.9                  56.0   \n",
       "4182                        by NILL            4.4                  24.0   \n",
       "\n",
       "      amazon_isbn-10  amazon_price         flipkart_author  flipkart_isbn10  \\\n",
       "0         8172234902           209          Sidney Sheldon       8172234902   \n",
       "36        9350294311           477              Anil Lamba       9350294311   \n",
       "45        8184958455           340       Bar-Zohar Michael       8184958455   \n",
       "94        8172238975           178              Kamala Das       8172238975   \n",
       "110       8170286840           120    Abdul Kalam A. P. J.       8170286840   \n",
       "...              ...           ...                     ...              ...   \n",
       "4178      1847386938           492         Harrington Paul       1847386938   \n",
       "4179      1408855712           666           J. K. Rowling       1408855712   \n",
       "4180      9380340036           542            Arni Samhita       9380340036   \n",
       "4181      9351039684           247           James Dashner       9351039684   \n",
       "4182      9386041901           213                 unknown       9386041901   \n",
       "\n",
       "                             flipkart_title flipkart_ratings count  \\\n",
       "0                       TELL ME YOUR DREAMS                    902   \n",
       "36              ROMANCING THE BALANCE SHEET                    352   \n",
       "45                                   Mossad                    560   \n",
       "94                                 MY STORY                    322   \n",
       "110                      Inspiring Thoughts                    357   \n",
       "...                                     ...                    ...   \n",
       "4178               The Secret to Teen Power                    207   \n",
       "4179   Harry Potter and the Deathly Hallows                   2083   \n",
       "4180                        Sita's Ramayana                     19   \n",
       "4181                      The Scorch Trials                    180   \n",
       "4182                          Tom Gates #10                     94   \n",
       "\n",
       "      flipkart_price  flipkart_stars  \n",
       "0                209             4.5  \n",
       "36               477             4.5  \n",
       "45               280             4.5  \n",
       "94               178             4.3  \n",
       "110              149             4.2  \n",
       "...              ...             ...  \n",
       "4178             373             4.5  \n",
       "4179             452             4.7  \n",
       "4180             550             4.1  \n",
       "4181             234             4.6  \n",
       "4182             237             4.6  \n",
       "\n",
       "[638 rows x 12 columns]"
      ]
     },
     "execution_count": 53,
     "metadata": {},
     "output_type": "execute_result"
    }
   ],
   "source": [
    "joint_data_2"
   ]
  },
  {
   "cell_type": "markdown",
   "id": "4959cace",
   "metadata": {
    "papermill": {
     "duration": 0.1226,
     "end_time": "2021-07-16T17:10:55.615642",
     "exception": false,
     "start_time": "2021-07-16T17:10:55.493042",
     "status": "completed"
    },
    "tags": []
   },
   "source": [
    "# lets reshape our Dataset "
   ]
  },
  {
   "cell_type": "code",
   "execution_count": 54,
   "id": "20670ae7",
   "metadata": {
    "execution": {
     "iopub.execute_input": "2021-07-16T17:10:55.875690Z",
     "iopub.status.busy": "2021-07-16T17:10:55.875030Z",
     "iopub.status.idle": "2021-07-16T17:10:55.876320Z",
     "shell.execute_reply": "2021-07-16T17:10:55.877324Z",
     "shell.execute_reply.started": "2021-07-16T17:09:51.547318Z"
    },
    "papermill": {
     "duration": 0.134957,
     "end_time": "2021-07-16T17:10:55.877672",
     "exception": false,
     "start_time": "2021-07-16T17:10:55.742715",
     "status": "completed"
    },
    "tags": []
   },
   "outputs": [],
   "source": [
    "joint_data_3=joint_data_2.rename(columns={\"amazon_title\":\"Book_title\",\n",
    "                                                                       \"flipkart_author\":\"Book_Author\",\n",
    "                                                                        \"flipkart_stars\":\"flipkart_rating\",\n",
    "                                                                     \"flipkart_ratings count\":\"flipkart_reviews count\"})"
   ]
  },
  {
   "cell_type": "code",
   "execution_count": 55,
   "id": "b194b862",
   "metadata": {
    "execution": {
     "iopub.execute_input": "2021-07-16T17:10:56.139072Z",
     "iopub.status.busy": "2021-07-16T17:10:56.138376Z",
     "iopub.status.idle": "2021-07-16T17:10:56.144233Z",
     "shell.execute_reply": "2021-07-16T17:10:56.144714Z",
     "shell.execute_reply.started": "2021-07-16T17:09:51.558220Z"
    },
    "papermill": {
     "duration": 0.139539,
     "end_time": "2021-07-16T17:10:56.144922",
     "exception": false,
     "start_time": "2021-07-16T17:10:56.005383",
     "status": "completed"
    },
    "tags": []
   },
   "outputs": [],
   "source": [
    "joint_data_4=joint_data_3.drop([\"amazon_author\",\"amazon_isbn-10\",\"flipkart_isbn10\",\"flipkart_title\"],axis=1)"
   ]
  },
  {
   "cell_type": "code",
   "execution_count": 56,
   "id": "03041c14",
   "metadata": {
    "execution": {
     "iopub.execute_input": "2021-07-16T17:10:56.399191Z",
     "iopub.status.busy": "2021-07-16T17:10:56.398381Z",
     "iopub.status.idle": "2021-07-16T17:10:56.412585Z",
     "shell.execute_reply": "2021-07-16T17:10:56.412030Z",
     "shell.execute_reply.started": "2021-07-16T17:09:51.570424Z"
    },
    "papermill": {
     "duration": 0.141221,
     "end_time": "2021-07-16T17:10:56.412732",
     "exception": false,
     "start_time": "2021-07-16T17:10:56.271511",
     "status": "completed"
    },
    "tags": []
   },
   "outputs": [
    {
     "data": {
      "text/html": [
       "<div>\n",
       "<style scoped>\n",
       "    .dataframe tbody tr th:only-of-type {\n",
       "        vertical-align: middle;\n",
       "    }\n",
       "\n",
       "    .dataframe tbody tr th {\n",
       "        vertical-align: top;\n",
       "    }\n",
       "\n",
       "    .dataframe thead th {\n",
       "        text-align: right;\n",
       "    }\n",
       "</style>\n",
       "<table border=\"1\" class=\"dataframe\">\n",
       "  <thead>\n",
       "    <tr style=\"text-align: right;\">\n",
       "      <th></th>\n",
       "      <th>Book_title</th>\n",
       "      <th>amazon_rating</th>\n",
       "      <th>amazon_reviews count</th>\n",
       "      <th>amazon_price</th>\n",
       "      <th>Book_Author</th>\n",
       "      <th>flipkart_reviews count</th>\n",
       "      <th>flipkart_price</th>\n",
       "      <th>flipkart_rating</th>\n",
       "    </tr>\n",
       "  </thead>\n",
       "  <tbody>\n",
       "    <tr>\n",
       "      <th>0</th>\n",
       "      <td>Tell Me your Dreams</td>\n",
       "      <td>4.4</td>\n",
       "      <td>160.0</td>\n",
       "      <td>209</td>\n",
       "      <td>Sidney Sheldon</td>\n",
       "      <td>902</td>\n",
       "      <td>209</td>\n",
       "      <td>4.5</td>\n",
       "    </tr>\n",
       "    <tr>\n",
       "      <th>36</th>\n",
       "      <td>Romancing the Balance Sheet: For Anyone Who Ow...</td>\n",
       "      <td>4.5</td>\n",
       "      <td>156.0</td>\n",
       "      <td>477</td>\n",
       "      <td>Anil Lamba</td>\n",
       "      <td>352</td>\n",
       "      <td>477</td>\n",
       "      <td>4.5</td>\n",
       "    </tr>\n",
       "    <tr>\n",
       "      <th>45</th>\n",
       "      <td>Mossad</td>\n",
       "      <td>4.6</td>\n",
       "      <td>637.0</td>\n",
       "      <td>340</td>\n",
       "      <td>Bar-Zohar Michael</td>\n",
       "      <td>560</td>\n",
       "      <td>280</td>\n",
       "      <td>4.5</td>\n",
       "    </tr>\n",
       "    <tr>\n",
       "      <th>94</th>\n",
       "      <td>My Story</td>\n",
       "      <td>4.5</td>\n",
       "      <td>42.0</td>\n",
       "      <td>178</td>\n",
       "      <td>Kamala Das</td>\n",
       "      <td>322</td>\n",
       "      <td>178</td>\n",
       "      <td>4.3</td>\n",
       "    </tr>\n",
       "    <tr>\n",
       "      <th>110</th>\n",
       "      <td>Inspiring Thoughts (Inspiring Thoughts Quotati...</td>\n",
       "      <td>4.1</td>\n",
       "      <td>148.0</td>\n",
       "      <td>120</td>\n",
       "      <td>Abdul Kalam A. P. J.</td>\n",
       "      <td>357</td>\n",
       "      <td>149</td>\n",
       "      <td>4.2</td>\n",
       "    </tr>\n",
       "  </tbody>\n",
       "</table>\n",
       "</div>"
      ],
      "text/plain": [
       "                                            Book_title  amazon_rating  \\\n",
       "0                                  Tell Me your Dreams            4.4   \n",
       "36   Romancing the Balance Sheet: For Anyone Who Ow...            4.5   \n",
       "45                                              Mossad            4.6   \n",
       "94                                            My Story            4.5   \n",
       "110  Inspiring Thoughts (Inspiring Thoughts Quotati...            4.1   \n",
       "\n",
       "     amazon_reviews count  amazon_price             Book_Author  \\\n",
       "0                   160.0           209          Sidney Sheldon   \n",
       "36                  156.0           477              Anil Lamba   \n",
       "45                  637.0           340       Bar-Zohar Michael   \n",
       "94                   42.0           178              Kamala Das   \n",
       "110                 148.0           120    Abdul Kalam A. P. J.   \n",
       "\n",
       "    flipkart_reviews count  flipkart_price  flipkart_rating  \n",
       "0                      902             209              4.5  \n",
       "36                     352             477              4.5  \n",
       "45                     560             280              4.5  \n",
       "94                     322             178              4.3  \n",
       "110                    357             149              4.2  "
      ]
     },
     "execution_count": 56,
     "metadata": {},
     "output_type": "execute_result"
    }
   ],
   "source": [
    "joint_data_4.head()"
   ]
  },
  {
   "cell_type": "code",
   "execution_count": 57,
   "id": "4c27ddac",
   "metadata": {
    "execution": {
     "iopub.execute_input": "2021-07-16T17:10:56.672520Z",
     "iopub.status.busy": "2021-07-16T17:10:56.671641Z",
     "iopub.status.idle": "2021-07-16T17:10:56.675369Z",
     "shell.execute_reply": "2021-07-16T17:10:56.674811Z",
     "shell.execute_reply.started": "2021-07-16T17:09:51.589866Z"
    },
    "papermill": {
     "duration": 0.135927,
     "end_time": "2021-07-16T17:10:56.675484",
     "exception": false,
     "start_time": "2021-07-16T17:10:56.539557",
     "status": "completed"
    },
    "tags": []
   },
   "outputs": [],
   "source": [
    "joint_data_5=joint_data_4[[\"Book_title\",\"Book_Author\",\"amazon_price\",\"flipkart_price\",\"amazon_rating\",\"flipkart_rating\",\"amazon_reviews count\",\"flipkart_reviews count\"]]"
   ]
  },
  {
   "cell_type": "code",
   "execution_count": 58,
   "id": "1be302d1",
   "metadata": {
    "execution": {
     "iopub.execute_input": "2021-07-16T17:10:56.845216Z",
     "iopub.status.busy": "2021-07-16T17:10:56.844745Z",
     "iopub.status.idle": "2021-07-16T17:10:56.867310Z",
     "shell.execute_reply": "2021-07-16T17:10:56.867802Z",
     "shell.execute_reply.started": "2021-07-16T17:09:51.599243Z"
    },
    "papermill": {
     "duration": 0.107526,
     "end_time": "2021-07-16T17:10:56.867990",
     "exception": false,
     "start_time": "2021-07-16T17:10:56.760464",
     "status": "completed"
    },
    "tags": []
   },
   "outputs": [
    {
     "data": {
      "text/html": [
       "<div>\n",
       "<style scoped>\n",
       "    .dataframe tbody tr th:only-of-type {\n",
       "        vertical-align: middle;\n",
       "    }\n",
       "\n",
       "    .dataframe tbody tr th {\n",
       "        vertical-align: top;\n",
       "    }\n",
       "\n",
       "    .dataframe thead th {\n",
       "        text-align: right;\n",
       "    }\n",
       "</style>\n",
       "<table border=\"1\" class=\"dataframe\">\n",
       "  <thead>\n",
       "    <tr style=\"text-align: right;\">\n",
       "      <th></th>\n",
       "      <th>Book_title</th>\n",
       "      <th>Book_Author</th>\n",
       "      <th>amazon_price</th>\n",
       "      <th>flipkart_price</th>\n",
       "      <th>amazon_rating</th>\n",
       "      <th>flipkart_rating</th>\n",
       "      <th>amazon_reviews count</th>\n",
       "      <th>flipkart_reviews count</th>\n",
       "    </tr>\n",
       "  </thead>\n",
       "  <tbody>\n",
       "    <tr>\n",
       "      <th>0</th>\n",
       "      <td>Tell Me your Dreams</td>\n",
       "      <td>Sidney Sheldon</td>\n",
       "      <td>209</td>\n",
       "      <td>209</td>\n",
       "      <td>4.4</td>\n",
       "      <td>4.5</td>\n",
       "      <td>160.0</td>\n",
       "      <td>902</td>\n",
       "    </tr>\n",
       "    <tr>\n",
       "      <th>36</th>\n",
       "      <td>Romancing the Balance Sheet: For Anyone Who Ow...</td>\n",
       "      <td>Anil Lamba</td>\n",
       "      <td>477</td>\n",
       "      <td>477</td>\n",
       "      <td>4.5</td>\n",
       "      <td>4.5</td>\n",
       "      <td>156.0</td>\n",
       "      <td>352</td>\n",
       "    </tr>\n",
       "    <tr>\n",
       "      <th>45</th>\n",
       "      <td>Mossad</td>\n",
       "      <td>Bar-Zohar Michael</td>\n",
       "      <td>340</td>\n",
       "      <td>280</td>\n",
       "      <td>4.6</td>\n",
       "      <td>4.5</td>\n",
       "      <td>637.0</td>\n",
       "      <td>560</td>\n",
       "    </tr>\n",
       "    <tr>\n",
       "      <th>94</th>\n",
       "      <td>My Story</td>\n",
       "      <td>Kamala Das</td>\n",
       "      <td>178</td>\n",
       "      <td>178</td>\n",
       "      <td>4.5</td>\n",
       "      <td>4.3</td>\n",
       "      <td>42.0</td>\n",
       "      <td>322</td>\n",
       "    </tr>\n",
       "    <tr>\n",
       "      <th>110</th>\n",
       "      <td>Inspiring Thoughts (Inspiring Thoughts Quotati...</td>\n",
       "      <td>Abdul Kalam A. P. J.</td>\n",
       "      <td>120</td>\n",
       "      <td>149</td>\n",
       "      <td>4.1</td>\n",
       "      <td>4.2</td>\n",
       "      <td>148.0</td>\n",
       "      <td>357</td>\n",
       "    </tr>\n",
       "    <tr>\n",
       "      <th>...</th>\n",
       "      <td>...</td>\n",
       "      <td>...</td>\n",
       "      <td>...</td>\n",
       "      <td>...</td>\n",
       "      <td>...</td>\n",
       "      <td>...</td>\n",
       "      <td>...</td>\n",
       "      <td>...</td>\n",
       "    </tr>\n",
       "    <tr>\n",
       "      <th>4178</th>\n",
       "      <td>The Secret to Teen Power</td>\n",
       "      <td>Harrington Paul</td>\n",
       "      <td>492</td>\n",
       "      <td>373</td>\n",
       "      <td>4.8</td>\n",
       "      <td>4.5</td>\n",
       "      <td>48.0</td>\n",
       "      <td>207</td>\n",
       "    </tr>\n",
       "    <tr>\n",
       "      <th>4179</th>\n",
       "      <td>Harry Potter and the Deathly Hallows (Harry Po...</td>\n",
       "      <td>J. K. Rowling</td>\n",
       "      <td>666</td>\n",
       "      <td>452</td>\n",
       "      <td>4.6</td>\n",
       "      <td>4.7</td>\n",
       "      <td>352.0</td>\n",
       "      <td>2083</td>\n",
       "    </tr>\n",
       "    <tr>\n",
       "      <th>4180</th>\n",
       "      <td>Sita's Ramayana</td>\n",
       "      <td>Arni Samhita</td>\n",
       "      <td>542</td>\n",
       "      <td>550</td>\n",
       "      <td>3.6</td>\n",
       "      <td>4.1</td>\n",
       "      <td>5.0</td>\n",
       "      <td>19</td>\n",
       "    </tr>\n",
       "    <tr>\n",
       "      <th>4181</th>\n",
       "      <td>The Maze Runner #02 Scorch Trials Movie Tie-in</td>\n",
       "      <td>James Dashner</td>\n",
       "      <td>247</td>\n",
       "      <td>234</td>\n",
       "      <td>3.9</td>\n",
       "      <td>4.6</td>\n",
       "      <td>56.0</td>\n",
       "      <td>180</td>\n",
       "    </tr>\n",
       "    <tr>\n",
       "      <th>4182</th>\n",
       "      <td>Tom Gates #10: Super Good Skills (Almost . . .)</td>\n",
       "      <td>unknown</td>\n",
       "      <td>213</td>\n",
       "      <td>237</td>\n",
       "      <td>4.4</td>\n",
       "      <td>4.6</td>\n",
       "      <td>24.0</td>\n",
       "      <td>94</td>\n",
       "    </tr>\n",
       "  </tbody>\n",
       "</table>\n",
       "<p>638 rows × 8 columns</p>\n",
       "</div>"
      ],
      "text/plain": [
       "                                             Book_title  \\\n",
       "0                                   Tell Me your Dreams   \n",
       "36    Romancing the Balance Sheet: For Anyone Who Ow...   \n",
       "45                                               Mossad   \n",
       "94                                             My Story   \n",
       "110   Inspiring Thoughts (Inspiring Thoughts Quotati...   \n",
       "...                                                 ...   \n",
       "4178                           The Secret to Teen Power   \n",
       "4179  Harry Potter and the Deathly Hallows (Harry Po...   \n",
       "4180                                    Sita's Ramayana   \n",
       "4181     The Maze Runner #02 Scorch Trials Movie Tie-in   \n",
       "4182    Tom Gates #10: Super Good Skills (Almost . . .)   \n",
       "\n",
       "                 Book_Author  amazon_price  flipkart_price  amazon_rating  \\\n",
       "0             Sidney Sheldon           209             209            4.4   \n",
       "36                Anil Lamba           477             477            4.5   \n",
       "45         Bar-Zohar Michael           340             280            4.6   \n",
       "94                Kamala Das           178             178            4.5   \n",
       "110     Abdul Kalam A. P. J.           120             149            4.1   \n",
       "...                      ...           ...             ...            ...   \n",
       "4178         Harrington Paul           492             373            4.8   \n",
       "4179           J. K. Rowling           666             452            4.6   \n",
       "4180            Arni Samhita           542             550            3.6   \n",
       "4181           James Dashner           247             234            3.9   \n",
       "4182                 unknown           213             237            4.4   \n",
       "\n",
       "      flipkart_rating  amazon_reviews count flipkart_reviews count  \n",
       "0                 4.5                 160.0                    902  \n",
       "36                4.5                 156.0                    352  \n",
       "45                4.5                 637.0                    560  \n",
       "94                4.3                  42.0                    322  \n",
       "110               4.2                 148.0                    357  \n",
       "...               ...                   ...                    ...  \n",
       "4178              4.5                  48.0                    207  \n",
       "4179              4.7                 352.0                   2083  \n",
       "4180              4.1                   5.0                     19  \n",
       "4181              4.6                  56.0                    180  \n",
       "4182              4.6                  24.0                     94  \n",
       "\n",
       "[638 rows x 8 columns]"
      ]
     },
     "execution_count": 58,
     "metadata": {},
     "output_type": "execute_result"
    }
   ],
   "source": [
    "joint_data_5"
   ]
  },
  {
   "cell_type": "markdown",
   "id": "27b701d2",
   "metadata": {
    "papermill": {
     "duration": 0.085896,
     "end_time": "2021-07-16T17:10:57.037204",
     "exception": false,
     "start_time": "2021-07-16T17:10:56.951308",
     "status": "completed"
    },
    "tags": []
   },
   "source": [
    "# Now as our Dataset is clean Lets analyze its"
   ]
  },
  {
   "cell_type": "code",
   "execution_count": 59,
   "id": "2678d4ec",
   "metadata": {
    "execution": {
     "iopub.execute_input": "2021-07-16T17:10:57.209382Z",
     "iopub.status.busy": "2021-07-16T17:10:57.208843Z",
     "iopub.status.idle": "2021-07-16T17:10:57.235178Z",
     "shell.execute_reply": "2021-07-16T17:10:57.234745Z",
     "shell.execute_reply.started": "2021-07-16T17:09:51.622659Z"
    },
    "papermill": {
     "duration": 0.113342,
     "end_time": "2021-07-16T17:10:57.235288",
     "exception": false,
     "start_time": "2021-07-16T17:10:57.121946",
     "status": "completed"
    },
    "tags": []
   },
   "outputs": [
    {
     "data": {
      "text/html": [
       "<div>\n",
       "<style scoped>\n",
       "    .dataframe tbody tr th:only-of-type {\n",
       "        vertical-align: middle;\n",
       "    }\n",
       "\n",
       "    .dataframe tbody tr th {\n",
       "        vertical-align: top;\n",
       "    }\n",
       "\n",
       "    .dataframe thead th {\n",
       "        text-align: right;\n",
       "    }\n",
       "</style>\n",
       "<table border=\"1\" class=\"dataframe\">\n",
       "  <thead>\n",
       "    <tr style=\"text-align: right;\">\n",
       "      <th></th>\n",
       "      <th>amazon_price</th>\n",
       "      <th>flipkart_price</th>\n",
       "      <th>amazon_rating</th>\n",
       "      <th>flipkart_rating</th>\n",
       "      <th>amazon_reviews count</th>\n",
       "    </tr>\n",
       "  </thead>\n",
       "  <tbody>\n",
       "    <tr>\n",
       "      <th>count</th>\n",
       "      <td>638.000000</td>\n",
       "      <td>638.000000</td>\n",
       "      <td>638.000000</td>\n",
       "      <td>638.000000</td>\n",
       "      <td>638.000000</td>\n",
       "    </tr>\n",
       "    <tr>\n",
       "      <th>mean</th>\n",
       "      <td>266.576803</td>\n",
       "      <td>275.296238</td>\n",
       "      <td>4.273981</td>\n",
       "      <td>4.413480</td>\n",
       "      <td>213.815047</td>\n",
       "    </tr>\n",
       "    <tr>\n",
       "      <th>std</th>\n",
       "      <td>154.643022</td>\n",
       "      <td>173.420683</td>\n",
       "      <td>0.427449</td>\n",
       "      <td>0.215287</td>\n",
       "      <td>609.449094</td>\n",
       "    </tr>\n",
       "    <tr>\n",
       "      <th>min</th>\n",
       "      <td>1.000000</td>\n",
       "      <td>50.000000</td>\n",
       "      <td>1.000000</td>\n",
       "      <td>3.000000</td>\n",
       "      <td>1.000000</td>\n",
       "    </tr>\n",
       "    <tr>\n",
       "      <th>25%</th>\n",
       "      <td>159.250000</td>\n",
       "      <td>159.000000</td>\n",
       "      <td>4.100000</td>\n",
       "      <td>4.300000</td>\n",
       "      <td>23.000000</td>\n",
       "    </tr>\n",
       "    <tr>\n",
       "      <th>50%</th>\n",
       "      <td>230.000000</td>\n",
       "      <td>230.000000</td>\n",
       "      <td>4.300000</td>\n",
       "      <td>4.400000</td>\n",
       "      <td>62.500000</td>\n",
       "    </tr>\n",
       "    <tr>\n",
       "      <th>75%</th>\n",
       "      <td>347.750000</td>\n",
       "      <td>343.500000</td>\n",
       "      <td>4.500000</td>\n",
       "      <td>4.500000</td>\n",
       "      <td>180.000000</td>\n",
       "    </tr>\n",
       "    <tr>\n",
       "      <th>max</th>\n",
       "      <td>895.000000</td>\n",
       "      <td>1581.000000</td>\n",
       "      <td>5.000000</td>\n",
       "      <td>5.000000</td>\n",
       "      <td>6566.000000</td>\n",
       "    </tr>\n",
       "  </tbody>\n",
       "</table>\n",
       "</div>"
      ],
      "text/plain": [
       "       amazon_price  flipkart_price  amazon_rating  flipkart_rating  \\\n",
       "count    638.000000      638.000000     638.000000       638.000000   \n",
       "mean     266.576803      275.296238       4.273981         4.413480   \n",
       "std      154.643022      173.420683       0.427449         0.215287   \n",
       "min        1.000000       50.000000       1.000000         3.000000   \n",
       "25%      159.250000      159.000000       4.100000         4.300000   \n",
       "50%      230.000000      230.000000       4.300000         4.400000   \n",
       "75%      347.750000      343.500000       4.500000         4.500000   \n",
       "max      895.000000     1581.000000       5.000000         5.000000   \n",
       "\n",
       "       amazon_reviews count  \n",
       "count            638.000000  \n",
       "mean             213.815047  \n",
       "std              609.449094  \n",
       "min                1.000000  \n",
       "25%               23.000000  \n",
       "50%               62.500000  \n",
       "75%              180.000000  \n",
       "max             6566.000000  "
      ]
     },
     "execution_count": 59,
     "metadata": {},
     "output_type": "execute_result"
    }
   ],
   "source": [
    "joint_data_5.describe()"
   ]
  },
  {
   "cell_type": "markdown",
   "id": "5d571627",
   "metadata": {
    "papermill": {
     "duration": 0.086285,
     "end_time": "2021-07-16T17:10:57.406864",
     "exception": false,
     "start_time": "2021-07-16T17:10:57.320579",
     "status": "completed"
    },
    "tags": []
   },
   "source": [
    "# Amazon Prices Vs. Flipkart Prices"
   ]
  },
  {
   "cell_type": "code",
   "execution_count": 60,
   "id": "b02daa3d",
   "metadata": {
    "execution": {
     "iopub.execute_input": "2021-07-16T17:10:57.608692Z",
     "iopub.status.busy": "2021-07-16T17:10:57.592073Z",
     "iopub.status.idle": "2021-07-16T17:10:59.160095Z",
     "shell.execute_reply": "2021-07-16T17:10:59.160477Z",
     "shell.execute_reply.started": "2021-07-16T17:09:51.654723Z"
    },
    "papermill": {
     "duration": 1.668892,
     "end_time": "2021-07-16T17:10:59.160652",
     "exception": false,
     "start_time": "2021-07-16T17:10:57.491760",
     "status": "completed"
    },
    "tags": []
   },
   "outputs": [
    {
     "data": {
      "text/plain": [
       "Text(0.5, 1.0, 'Amazon Prices Vs. Flipkart Prices')"
      ]
     },
     "execution_count": 60,
     "metadata": {},
     "output_type": "execute_result"
    },
    {
     "data": {
      "image/png": "[encoded data removed]",
      "text/plain": [
       "<Figure size 1080x576 with 1 Axes>"
      ]
     },
     "metadata": {},
     "output_type": "display_data"
    }
   ],
   "source": [
    "plt.figure(figsize=(15,8))\n",
    "sns.set(style=\"darkgrid\")\n",
    "m = plt.hist(joint_data_5[\"amazon_price\"],bins=180,fc = (0,0,1,0.9),label=\"Amazon Prices\")\n",
    "b = plt.hist(joint_data_5[\"flipkart_price\"],bins=180,fc = (0,1,0,0.6),label = \"Flipkart Prices\")\n",
    "plt.legend()\n",
    "plt.xlabel(\"Range of Prices\")\n",
    "plt.ylabel(\"Frequency\")\n",
    "plt.title(\"Amazon Prices Vs. Flipkart Prices\")"
   ]
  },
  {
   "cell_type": "markdown",
   "id": "9024d1c3",
   "metadata": {
    "papermill": {
     "duration": 0.088271,
     "end_time": "2021-07-16T17:10:59.338017",
     "exception": false,
     "start_time": "2021-07-16T17:10:59.249746",
     "status": "completed"
    },
    "tags": []
   },
   "source": [
    "# From the above visuals we can conclude that the prices of books on Flipkart are slightly higher than that on Amazon"
   ]
  },
  {
   "cell_type": "code",
   "execution_count": 61,
   "id": "56795e02",
   "metadata": {
    "execution": {
     "iopub.execute_input": "2021-07-16T17:10:59.518788Z",
     "iopub.status.busy": "2021-07-16T17:10:59.518137Z",
     "iopub.status.idle": "2021-07-16T17:10:59.521171Z",
     "shell.execute_reply": "2021-07-16T17:10:59.521545Z",
     "shell.execute_reply.started": "2021-07-16T17:09:52.732033Z"
    },
    "papermill": {
     "duration": 0.098509,
     "end_time": "2021-07-16T17:10:59.521705",
     "exception": false,
     "start_time": "2021-07-16T17:10:59.423196",
     "status": "completed"
    },
    "tags": []
   },
   "outputs": [],
   "source": [
    "joint_data_5[\"flipkart_reviews count\"]=pd.to_numeric(joint_data_5[\"flipkart_reviews count\"])"
   ]
  },
  {
   "cell_type": "code",
   "execution_count": 62,
   "id": "14124c30",
   "metadata": {
    "execution": {
     "iopub.execute_input": "2021-07-16T17:10:59.707526Z",
     "iopub.status.busy": "2021-07-16T17:10:59.707003Z",
     "iopub.status.idle": "2021-07-16T17:10:59.711851Z",
     "shell.execute_reply": "2021-07-16T17:10:59.711305Z",
     "shell.execute_reply.started": "2021-07-16T17:09:52.738614Z"
    },
    "papermill": {
     "duration": 0.103627,
     "end_time": "2021-07-16T17:10:59.711996",
     "exception": false,
     "start_time": "2021-07-16T17:10:59.608369",
     "status": "completed"
    },
    "tags": []
   },
   "outputs": [
    {
     "data": {
      "text/html": [
       "<div>\n",
       "<style scoped>\n",
       "    .dataframe tbody tr th:only-of-type {\n",
       "        vertical-align: middle;\n",
       "    }\n",
       "\n",
       "    .dataframe tbody tr th {\n",
       "        vertical-align: top;\n",
       "    }\n",
       "\n",
       "    .dataframe thead th {\n",
       "        text-align: right;\n",
       "    }\n",
       "</style>\n",
       "<table border=\"1\" class=\"dataframe\">\n",
       "  <thead>\n",
       "    <tr style=\"text-align: right;\">\n",
       "      <th></th>\n",
       "      <th>Book_title</th>\n",
       "      <th>Book_Author</th>\n",
       "      <th>amazon_price</th>\n",
       "      <th>flipkart_price</th>\n",
       "      <th>amazon_rating</th>\n",
       "      <th>flipkart_rating</th>\n",
       "      <th>amazon_reviews count</th>\n",
       "      <th>flipkart_reviews count</th>\n",
       "    </tr>\n",
       "  </thead>\n",
       "  <tbody>\n",
       "    <tr>\n",
       "      <th>0</th>\n",
       "      <td>Tell Me your Dreams</td>\n",
       "      <td>Sidney Sheldon</td>\n",
       "      <td>209</td>\n",
       "      <td>209</td>\n",
       "      <td>4.4</td>\n",
       "      <td>4.5</td>\n",
       "      <td>160.0</td>\n",
       "      <td>902</td>\n",
       "    </tr>\n",
       "    <tr>\n",
       "      <th>36</th>\n",
       "      <td>Romancing the Balance Sheet: For Anyone Who Ow...</td>\n",
       "      <td>Anil Lamba</td>\n",
       "      <td>477</td>\n",
       "      <td>477</td>\n",
       "      <td>4.5</td>\n",
       "      <td>4.5</td>\n",
       "      <td>156.0</td>\n",
       "      <td>352</td>\n",
       "    </tr>\n",
       "    <tr>\n",
       "      <th>45</th>\n",
       "      <td>Mossad</td>\n",
       "      <td>Bar-Zohar Michael</td>\n",
       "      <td>340</td>\n",
       "      <td>280</td>\n",
       "      <td>4.6</td>\n",
       "      <td>4.5</td>\n",
       "      <td>637.0</td>\n",
       "      <td>560</td>\n",
       "    </tr>\n",
       "    <tr>\n",
       "      <th>94</th>\n",
       "      <td>My Story</td>\n",
       "      <td>Kamala Das</td>\n",
       "      <td>178</td>\n",
       "      <td>178</td>\n",
       "      <td>4.5</td>\n",
       "      <td>4.3</td>\n",
       "      <td>42.0</td>\n",
       "      <td>322</td>\n",
       "    </tr>\n",
       "    <tr>\n",
       "      <th>110</th>\n",
       "      <td>Inspiring Thoughts (Inspiring Thoughts Quotati...</td>\n",
       "      <td>Abdul Kalam A. P. J.</td>\n",
       "      <td>120</td>\n",
       "      <td>149</td>\n",
       "      <td>4.1</td>\n",
       "      <td>4.2</td>\n",
       "      <td>148.0</td>\n",
       "      <td>357</td>\n",
       "    </tr>\n",
       "  </tbody>\n",
       "</table>\n",
       "</div>"
      ],
      "text/plain": [
       "                                            Book_title  \\\n",
       "0                                  Tell Me your Dreams   \n",
       "36   Romancing the Balance Sheet: For Anyone Who Ow...   \n",
       "45                                              Mossad   \n",
       "94                                            My Story   \n",
       "110  Inspiring Thoughts (Inspiring Thoughts Quotati...   \n",
       "\n",
       "                Book_Author  amazon_price  flipkart_price  amazon_rating  \\\n",
       "0            Sidney Sheldon           209             209            4.4   \n",
       "36               Anil Lamba           477             477            4.5   \n",
       "45        Bar-Zohar Michael           340             280            4.6   \n",
       "94               Kamala Das           178             178            4.5   \n",
       "110    Abdul Kalam A. P. J.           120             149            4.1   \n",
       "\n",
       "     flipkart_rating  amazon_reviews count  flipkart_reviews count  \n",
       "0                4.5                 160.0                     902  \n",
       "36               4.5                 156.0                     352  \n",
       "45               4.5                 637.0                     560  \n",
       "94               4.3                  42.0                     322  \n",
       "110              4.2                 148.0                     357  "
      ]
     },
     "execution_count": 62,
     "metadata": {},
     "output_type": "execute_result"
    }
   ],
   "source": [
    "joint_data_5.head()"
   ]
  },
  {
   "cell_type": "markdown",
   "id": "aec66b7c",
   "metadata": {
    "papermill": {
     "duration": 0.086986,
     "end_time": "2021-07-16T17:10:59.887171",
     "exception": false,
     "start_time": "2021-07-16T17:10:59.800185",
     "status": "completed"
    },
    "tags": []
   },
   "source": [
    "# Amazon Ratings Vs. Flipkart Ratings"
   ]
  },
  {
   "cell_type": "code",
   "execution_count": 63,
   "id": "75548a4e",
   "metadata": {
    "execution": {
     "iopub.execute_input": "2021-07-16T17:11:00.094382Z",
     "iopub.status.busy": "2021-07-16T17:11:00.083687Z",
     "iopub.status.idle": "2021-07-16T17:11:00.601737Z",
     "shell.execute_reply": "2021-07-16T17:11:00.601287Z",
     "shell.execute_reply.started": "2021-07-16T17:09:52.759589Z"
    },
    "papermill": {
     "duration": 0.629503,
     "end_time": "2021-07-16T17:11:00.601852",
     "exception": false,
     "start_time": "2021-07-16T17:10:59.972349",
     "status": "completed"
    },
    "tags": []
   },
   "outputs": [
    {
     "data": {
      "text/plain": [
       "Text(0.5, 1.0, 'Amazon Ratings Vs. Flipkart Ratings')"
      ]
     },
     "execution_count": 63,
     "metadata": {},
     "output_type": "execute_result"
    },
    {
     "data": {
      "image/png": "[encoded data removed]",
      "text/plain": [
       "<Figure size 1080x576 with 1 Axes>"
      ]
     },
     "metadata": {},
     "output_type": "display_data"
    }
   ],
   "source": [
    "plt.figure(figsize=(15,8))\n",
    "sns.set(style=\"darkgrid\")\n",
    "m = plt.hist(joint_data_5[\"amazon_rating\"],bins=60,fc = (0,0,1,0.7),label=\"Amazon Ratings\")\n",
    "b = plt.hist(joint_data_5[\"flipkart_rating\"],bins=60,fc = (0,1,0,0.6),label = \"Flipkart Ratings\")\n",
    "plt.legend()\n",
    "plt.xlabel(\"Range of Ratings\")\n",
    "plt.ylabel(\"Frequency\")\n",
    "plt.title(\"Amazon Ratings Vs. Flipkart Ratings\")"
   ]
  },
  {
   "cell_type": "markdown",
   "id": "42f7e4ce",
   "metadata": {
    "papermill": {
     "duration": 0.091952,
     "end_time": "2021-07-16T17:11:00.784401",
     "exception": false,
     "start_time": "2021-07-16T17:11:00.692449",
     "status": "completed"
    },
    "tags": []
   },
   "source": [
    "# Visuals above clearly states that Flipkart has got better ratings than Amazon"
   ]
  },
  {
   "cell_type": "markdown",
   "id": "a7b2450a",
   "metadata": {
    "papermill": {
     "duration": 0.085767,
     "end_time": "2021-07-16T17:11:00.958357",
     "exception": false,
     "start_time": "2021-07-16T17:11:00.872590",
     "status": "completed"
    },
    "tags": []
   },
   "source": [
    "# Amazon Reviews Vs. Flipkart Reviews"
   ]
  },
  {
   "cell_type": "code",
   "execution_count": 64,
   "id": "42e142a6",
   "metadata": {
    "execution": {
     "iopub.execute_input": "2021-07-16T17:11:01.147057Z",
     "iopub.status.busy": "2021-07-16T17:11:01.146468Z",
     "iopub.status.idle": "2021-07-16T17:11:01.380959Z",
     "shell.execute_reply": "2021-07-16T17:11:01.381334Z",
     "shell.execute_reply.started": "2021-07-16T17:09:53.316588Z"
    },
    "papermill": {
     "duration": 0.333382,
     "end_time": "2021-07-16T17:11:01.381474",
     "exception": false,
     "start_time": "2021-07-16T17:11:01.048092",
     "status": "completed"
    },
    "tags": []
   },
   "outputs": [
    {
     "data": {
      "text/plain": [
       "Text(0.5, 1.0, 'Amazon Reviews Vs. Flipkart Reviews')"
      ]
     },
     "execution_count": 64,
     "metadata": {},
     "output_type": "execute_result"
    },
    {
     "data": {
      "image/png": "[encoded data removed]",
      "text/plain": [
       "<Figure size 1080x576 with 1 Axes>"
      ]
     },
     "metadata": {},
     "output_type": "display_data"
    }
   ],
   "source": [
    "plt.figure(figsize=(15,8))\n",
    "sns.set(style=\"darkgrid\")\n",
    "m = plt.hist(joint_data_5[\"amazon_reviews count\"],bins=300,fc = (0,0,1,0.7),label=\"Amazon Reviews\", histtype='stepfilled', range=[0,10000])\n",
    "b = plt.hist(joint_data_5[\"flipkart_reviews count\"],bins=300,fc = (0,1,0,0.6),label = \"Flipkart Reviews\", histtype='stepfilled', range=[0,10000])\n",
    "plt.legend()\n",
    "plt.xlabel(\"Reviews\")\n",
    "plt.ylabel(\"Frequency\")\n",
    "plt.title(\"Amazon Reviews Vs. Flipkart Reviews\")"
   ]
  },
  {
   "cell_type": "markdown",
   "id": "9425bd63",
   "metadata": {
    "papermill": {
     "duration": 0.09262,
     "end_time": "2021-07-16T17:11:01.564093",
     "exception": false,
     "start_time": "2021-07-16T17:11:01.471473",
     "status": "completed"
    },
    "tags": []
   },
   "source": [
    "# As we can see Amazon has higher count for reviews below 1000 but Flipkart has greater count for reviews above 1000"
   ]
  },
  {
   "cell_type": "code",
   "execution_count": 65,
   "id": "ba716952",
   "metadata": {
    "execution": {
     "iopub.execute_input": "2021-07-16T17:11:01.761480Z",
     "iopub.status.busy": "2021-07-16T17:11:01.760949Z",
     "iopub.status.idle": "2021-07-16T17:11:01.764624Z",
     "shell.execute_reply": "2021-07-16T17:11:01.765022Z",
     "shell.execute_reply.started": "2021-07-16T17:09:53.602883Z"
    },
    "papermill": {
     "duration": 0.110025,
     "end_time": "2021-07-16T17:11:01.765189",
     "exception": false,
     "start_time": "2021-07-16T17:11:01.655164",
     "status": "completed"
    },
    "tags": []
   },
   "outputs": [
    {
     "data": {
      "text/html": [
       "<div>\n",
       "<style scoped>\n",
       "    .dataframe tbody tr th:only-of-type {\n",
       "        vertical-align: middle;\n",
       "    }\n",
       "\n",
       "    .dataframe tbody tr th {\n",
       "        vertical-align: top;\n",
       "    }\n",
       "\n",
       "    .dataframe thead th {\n",
       "        text-align: right;\n",
       "    }\n",
       "</style>\n",
       "<table border=\"1\" class=\"dataframe\">\n",
       "  <thead>\n",
       "    <tr style=\"text-align: right;\">\n",
       "      <th></th>\n",
       "      <th>Book_title</th>\n",
       "      <th>Book_Author</th>\n",
       "      <th>amazon_price</th>\n",
       "      <th>flipkart_price</th>\n",
       "      <th>amazon_rating</th>\n",
       "      <th>flipkart_rating</th>\n",
       "      <th>amazon_reviews count</th>\n",
       "      <th>flipkart_reviews count</th>\n",
       "    </tr>\n",
       "  </thead>\n",
       "  <tbody>\n",
       "    <tr>\n",
       "      <th>0</th>\n",
       "      <td>Tell Me your Dreams</td>\n",
       "      <td>Sidney Sheldon</td>\n",
       "      <td>209</td>\n",
       "      <td>209</td>\n",
       "      <td>4.4</td>\n",
       "      <td>4.5</td>\n",
       "      <td>160.0</td>\n",
       "      <td>902</td>\n",
       "    </tr>\n",
       "    <tr>\n",
       "      <th>36</th>\n",
       "      <td>Romancing the Balance Sheet: For Anyone Who Ow...</td>\n",
       "      <td>Anil Lamba</td>\n",
       "      <td>477</td>\n",
       "      <td>477</td>\n",
       "      <td>4.5</td>\n",
       "      <td>4.5</td>\n",
       "      <td>156.0</td>\n",
       "      <td>352</td>\n",
       "    </tr>\n",
       "    <tr>\n",
       "      <th>45</th>\n",
       "      <td>Mossad</td>\n",
       "      <td>Bar-Zohar Michael</td>\n",
       "      <td>340</td>\n",
       "      <td>280</td>\n",
       "      <td>4.6</td>\n",
       "      <td>4.5</td>\n",
       "      <td>637.0</td>\n",
       "      <td>560</td>\n",
       "    </tr>\n",
       "    <tr>\n",
       "      <th>94</th>\n",
       "      <td>My Story</td>\n",
       "      <td>Kamala Das</td>\n",
       "      <td>178</td>\n",
       "      <td>178</td>\n",
       "      <td>4.5</td>\n",
       "      <td>4.3</td>\n",
       "      <td>42.0</td>\n",
       "      <td>322</td>\n",
       "    </tr>\n",
       "    <tr>\n",
       "      <th>110</th>\n",
       "      <td>Inspiring Thoughts (Inspiring Thoughts Quotati...</td>\n",
       "      <td>Abdul Kalam A. P. J.</td>\n",
       "      <td>120</td>\n",
       "      <td>149</td>\n",
       "      <td>4.1</td>\n",
       "      <td>4.2</td>\n",
       "      <td>148.0</td>\n",
       "      <td>357</td>\n",
       "    </tr>\n",
       "  </tbody>\n",
       "</table>\n",
       "</div>"
      ],
      "text/plain": [
       "                                            Book_title  \\\n",
       "0                                  Tell Me your Dreams   \n",
       "36   Romancing the Balance Sheet: For Anyone Who Ow...   \n",
       "45                                              Mossad   \n",
       "94                                            My Story   \n",
       "110  Inspiring Thoughts (Inspiring Thoughts Quotati...   \n",
       "\n",
       "                Book_Author  amazon_price  flipkart_price  amazon_rating  \\\n",
       "0            Sidney Sheldon           209             209            4.4   \n",
       "36               Anil Lamba           477             477            4.5   \n",
       "45        Bar-Zohar Michael           340             280            4.6   \n",
       "94               Kamala Das           178             178            4.5   \n",
       "110    Abdul Kalam A. P. J.           120             149            4.1   \n",
       "\n",
       "     flipkart_rating  amazon_reviews count  flipkart_reviews count  \n",
       "0                4.5                 160.0                     902  \n",
       "36               4.5                 156.0                     352  \n",
       "45               4.5                 637.0                     560  \n",
       "94               4.3                  42.0                     322  \n",
       "110              4.2                 148.0                     357  "
      ]
     },
     "execution_count": 65,
     "metadata": {},
     "output_type": "execute_result"
    }
   ],
   "source": [
    "joint_data_5.head()"
   ]
  },
  {
   "cell_type": "markdown",
   "id": "b809eaf7",
   "metadata": {
    "papermill": {
     "duration": 0.092051,
     "end_time": "2021-07-16T17:11:01.952086",
     "exception": false,
     "start_time": "2021-07-16T17:11:01.860035",
     "status": "completed"
    },
    "tags": []
   },
   "source": [
    "# Flipkart ratings Vs. Flipkart prices"
   ]
  },
  {
   "cell_type": "code",
   "execution_count": 66,
   "id": "3d9b9660",
   "metadata": {
    "execution": {
     "iopub.execute_input": "2021-07-16T17:11:02.145034Z",
     "iopub.status.busy": "2021-07-16T17:11:02.144424Z",
     "iopub.status.idle": "2021-07-16T17:11:02.792573Z",
     "shell.execute_reply": "2021-07-16T17:11:02.792144Z",
     "shell.execute_reply.started": "2021-07-16T17:09:53.622783Z"
    },
    "papermill": {
     "duration": 0.747085,
     "end_time": "2021-07-16T17:11:02.792698",
     "exception": false,
     "start_time": "2021-07-16T17:11:02.045613",
     "status": "completed"
    },
    "tags": []
   },
   "outputs": [
    {
     "data": {
      "text/plain": [
       "<seaborn.axisgrid.JointGrid at 0x7fac135bad90>"
      ]
     },
     "execution_count": 66,
     "metadata": {},
     "output_type": "execute_result"
    },
    {
     "data": {
      "image/png": "[encoded data removed]",
      "text/plain": [
       "<Figure size 432x432 with 3 Axes>"
      ]
     },
     "metadata": {},
     "output_type": "display_data"
    }
   ],
   "source": [
    "sns.set(style=\"darkgrid\")\n",
    "sns.jointplot(x=\"flipkart_rating\",y=\"flipkart_price\",data=joint_data_5)"
   ]
  },
  {
   "cell_type": "markdown",
   "id": "3f3dfd72",
   "metadata": {
    "papermill": {
     "duration": 0.088274,
     "end_time": "2021-07-16T17:11:02.971049",
     "exception": false,
     "start_time": "2021-07-16T17:11:02.882775",
     "status": "completed"
    },
    "tags": []
   },
   "source": [
    "# Books rated between 4.25-4.75 are the most expensive books on Flipkart "
   ]
  },
  {
   "cell_type": "markdown",
   "id": "88923e6b",
   "metadata": {
    "papermill": {
     "duration": 0.090453,
     "end_time": "2021-07-16T17:11:03.153105",
     "exception": false,
     "start_time": "2021-07-16T17:11:03.062652",
     "status": "completed"
    },
    "tags": []
   },
   "source": [
    "# Amazon ratings Vs. Amazon prices"
   ]
  },
  {
   "cell_type": "code",
   "execution_count": 67,
   "id": "754777ee",
   "metadata": {
    "execution": {
     "iopub.execute_input": "2021-07-16T17:11:03.353583Z",
     "iopub.status.busy": "2021-07-16T17:11:03.351092Z",
     "iopub.status.idle": "2021-07-16T17:11:03.875886Z",
     "shell.execute_reply": "2021-07-16T17:11:03.875356Z",
     "shell.execute_reply.started": "2021-07-16T17:09:54.306070Z"
    },
    "papermill": {
     "duration": 0.632491,
     "end_time": "2021-07-16T17:11:03.876053",
     "exception": false,
     "start_time": "2021-07-16T17:11:03.243562",
     "status": "completed"
    },
    "tags": []
   },
   "outputs": [
    {
     "data": {
      "text/plain": [
       "<seaborn.axisgrid.JointGrid at 0x7fac133581d0>"
      ]
     },
     "execution_count": 67,
     "metadata": {},
     "output_type": "execute_result"
    },
    {
     "data": {
      "image/png": "[encoded data removed]",
      "text/plain": [
       "<Figure size 432x432 with 3 Axes>"
      ]
     },
     "metadata": {},
     "output_type": "display_data"
    }
   ],
   "source": [
    "sns.set(style=\"darkgrid\")\n",
    "sns.jointplot(x=\"amazon_rating\",y=\"amazon_price\",data=joint_data_5)"
   ]
  },
  {
   "cell_type": "markdown",
   "id": "5b5c52e1",
   "metadata": {
    "papermill": {
     "duration": 0.092374,
     "end_time": "2021-07-16T17:11:04.060142",
     "exception": false,
     "start_time": "2021-07-16T17:11:03.967768",
     "status": "completed"
    },
    "tags": []
   },
   "source": [
    "# Books rated between 3.50-4.75 are the most expensive books on Amazon "
   ]
  }
 ],
 "metadata": {
  "kernelspec": {
   "display_name": "Python 3",
   "language": "python",
   "name": "python3"
  },
  "language_info": {
   "codemirror_mode": {
    "name": "ipython",
    "version": 3
   },
   "file_extension": ".py",
   "mimetype": "text/x-python",
   "name": "python",
   "nbconvert_exporter": "python",
   "pygments_lexer": "ipython3",
   "version": "3.7.10"
  },
  "papermill": {
   "default_parameters": {},
   "duration": 38.062947,
   "end_time": "2021-07-16T17:11:06.068965",
   "environment_variables": {},
   "exception": null,
   "input_path": "__notebook__.ipynb",
   "output_path": "__notebook__.ipynb",
   "parameters": {},
   "start_time": "2021-07-16T17:10:28.006018",
   "version": "2.3.3"
  }
 },
 "nbformat": 4,
 "nbformat_minor": 5
}
